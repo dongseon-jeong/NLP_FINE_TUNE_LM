{
  "cells": [
    {
      "cell_type": "markdown",
      "metadata": {
        "id": "4ydrwJDlo0GV"
      },
      "source": [
        "## gpu 확인 ##\n",
        "\n",
        "```\n",
        "사용환경\n",
        "우분투 맥 윈도우\n",
        "cuda,cudnn 설치\n",
        "파이썬 3.7~3.10, 아나콘다 가상환경\n",
        "```\n",
        "\n"
      ]
    },
    {
      "cell_type": "code",
      "execution_count": null,
      "metadata": {
        "colab": {
          "base_uri": "https://localhost:8080/"
        },
        "id": "Ias7ZJ2zl0jp",
        "outputId": "710920d3-c388-4953-a767-35532f0e20ce"
      },
      "outputs": [
        {
          "output_type": "stream",
          "name": "stdout",
          "text": [
            "Sun Nov  5 12:58:30 2023       \n",
            "+-----------------------------------------------------------------------------+\n",
            "| NVIDIA-SMI 525.105.17   Driver Version: 525.105.17   CUDA Version: 12.0     |\n",
            "|-------------------------------+----------------------+----------------------+\n",
            "| GPU  Name        Persistence-M| Bus-Id        Disp.A | Volatile Uncorr. ECC |\n",
            "| Fan  Temp  Perf  Pwr:Usage/Cap|         Memory-Usage | GPU-Util  Compute M. |\n",
            "|                               |                      |               MIG M. |\n",
            "|===============================+======================+======================|\n",
            "|   0  NVIDIA A100-SXM...  Off  | 00000000:00:04.0 Off |                    0 |\n",
            "| N/A   37C    P0    47W / 400W |      0MiB / 40960MiB |      0%      Default |\n",
            "|                               |                      |             Disabled |\n",
            "+-------------------------------+----------------------+----------------------+\n",
            "                                                                               \n",
            "+-----------------------------------------------------------------------------+\n",
            "| Processes:                                                                  |\n",
            "|  GPU   GI   CI        PID   Type   Process name                  GPU Memory |\n",
            "|        ID   ID                                                   Usage      |\n",
            "|=============================================================================|\n",
            "|  No running processes found                                                 |\n",
            "+-----------------------------------------------------------------------------+\n"
          ]
        }
      ],
      "source": [
        "!nvidia-smi"
      ]
    },
    {
      "cell_type": "markdown",
      "metadata": {
        "id": "6WuAlTCs2b-Y"
      },
      "source": [
        "## Setup 라이브러리 불러오기"
      ]
    },
    {
      "cell_type": "code",
      "execution_count": null,
      "metadata": {
        "colab": {
          "base_uri": "https://localhost:8080/"
        },
        "id": "pGB11PvSZkZp",
        "outputId": "750b8d3f-2413-4d99-d9e8-9b6398a51299"
      },
      "outputs": [
        {
          "output_type": "stream",
          "name": "stdout",
          "text": [
            "Requirement already satisfied: wandb in /usr/local/lib/python3.10/dist-packages (0.15.12)\n",
            "Requirement already satisfied: Click!=8.0.0,>=7.1 in /usr/local/lib/python3.10/dist-packages (from wandb) (8.1.7)\n",
            "Requirement already satisfied: GitPython!=3.1.29,>=1.0.0 in /usr/local/lib/python3.10/dist-packages (from wandb) (3.1.40)\n",
            "Requirement already satisfied: requests<3,>=2.0.0 in /usr/local/lib/python3.10/dist-packages (from wandb) (2.31.0)\n",
            "Requirement already satisfied: psutil>=5.0.0 in /usr/local/lib/python3.10/dist-packages (from wandb) (5.9.5)\n",
            "Requirement already satisfied: sentry-sdk>=1.0.0 in /usr/local/lib/python3.10/dist-packages (from wandb) (1.34.0)\n",
            "Requirement already satisfied: docker-pycreds>=0.4.0 in /usr/local/lib/python3.10/dist-packages (from wandb) (0.4.0)\n",
            "Requirement already satisfied: PyYAML in /usr/local/lib/python3.10/dist-packages (from wandb) (6.0.1)\n",
            "Requirement already satisfied: pathtools in /usr/local/lib/python3.10/dist-packages (from wandb) (0.1.2)\n",
            "Requirement already satisfied: setproctitle in /usr/local/lib/python3.10/dist-packages (from wandb) (1.3.3)\n",
            "Requirement already satisfied: setuptools in /usr/local/lib/python3.10/dist-packages (from wandb) (67.7.2)\n",
            "Requirement already satisfied: appdirs>=1.4.3 in /usr/local/lib/python3.10/dist-packages (from wandb) (1.4.4)\n",
            "Requirement already satisfied: protobuf!=4.21.0,<5,>=3.19.0 in /usr/local/lib/python3.10/dist-packages (from wandb) (3.20.3)\n",
            "Requirement already satisfied: six>=1.4.0 in /usr/local/lib/python3.10/dist-packages (from docker-pycreds>=0.4.0->wandb) (1.16.0)\n",
            "Requirement already satisfied: gitdb<5,>=4.0.1 in /usr/local/lib/python3.10/dist-packages (from GitPython!=3.1.29,>=1.0.0->wandb) (4.0.11)\n",
            "Requirement already satisfied: charset-normalizer<4,>=2 in /usr/local/lib/python3.10/dist-packages (from requests<3,>=2.0.0->wandb) (3.3.1)\n",
            "Requirement already satisfied: idna<4,>=2.5 in /usr/local/lib/python3.10/dist-packages (from requests<3,>=2.0.0->wandb) (3.4)\n",
            "Requirement already satisfied: urllib3<3,>=1.21.1 in /usr/local/lib/python3.10/dist-packages (from requests<3,>=2.0.0->wandb) (2.0.7)\n",
            "Requirement already satisfied: certifi>=2017.4.17 in /usr/local/lib/python3.10/dist-packages (from requests<3,>=2.0.0->wandb) (2023.7.22)\n",
            "Requirement already satisfied: smmap<6,>=3.0.1 in /usr/local/lib/python3.10/dist-packages (from gitdb<5,>=4.0.1->GitPython!=3.1.29,>=1.0.0->wandb) (5.0.1)\n"
          ]
        }
      ],
      "source": [
        "!pip install -q peft transformers datasets evaluate\n",
        "!pip install wandb"
      ]
    },
    {
      "cell_type": "code",
      "source": [
        "!pip install einops"
      ],
      "metadata": {
        "colab": {
          "base_uri": "https://localhost:8080/"
        },
        "id": "25h4NN4QkUXO",
        "outputId": "f9a2b1b5-5d4e-41ab-8876-252a8dc75a82"
      },
      "execution_count": null,
      "outputs": [
        {
          "output_type": "stream",
          "name": "stdout",
          "text": [
            "Requirement already satisfied: einops in /usr/local/lib/python3.10/dist-packages (0.7.0)\n"
          ]
        }
      ]
    },
    {
      "cell_type": "code",
      "execution_count": null,
      "metadata": {
        "id": "3xG6yyBJbW4N"
      },
      "outputs": [],
      "source": [
        "# 모델\n",
        "from transformers import (\n",
        "    AutoModelForSequenceClassification,\n",
        "    AutoTokenizer,\n",
        "    DataCollatorWithPadding,\n",
        "    TrainingArguments,\n",
        "    Trainer,\n",
        "    AutoModelForCausalLM\n",
        ")\n",
        "# 파인튜닝\n",
        "from peft import (\n",
        "    LoraConfig,\n",
        "    get_peft_config,\n",
        "    get_peft_model,\n",
        "    get_peft_model_state_dict,\n",
        "    set_peft_model_state_dict,\n",
        "    PeftType,\n",
        "    PromptEncoderConfig,\n",
        ")\n",
        "# 파이토치 데이터셋\n",
        "from datasets import load_dataset\n",
        "import evaluate\n",
        "import torch\n",
        "import os\n",
        "\n",
        "# model_name_or_path = \"klue/roberta-small\"\n",
        "# model_name_or_path = \"Hyeonseo/ko_roberta_small_model\" #token classification #나쁘지않음\n",
        "# model_name_or_path = \"kyujinpy/KO-Platypus2-7B-ex\"\n",
        "# model_name_or_path = \"xlm-roberta-base\" #나쁘지않음\n",
        "\n",
        "model_name_or_path = \"EleutherAI/polyglot-ko-1.3b\"\n",
        "# model_name_or_path = \"google/mt5-base\" # slow tokenizer\n",
        "# model_name_or_path = \"beomi/llama-2-ko-7b\"\n",
        "# model_name_or_path = \"microsoft/phi-1_5\"\n",
        "\n",
        "\n",
        "\n",
        "\n"
      ]
    },
    {
      "cell_type": "markdown",
      "metadata": {
        "id": "HzSlXm1_T3V5"
      },
      "source": [
        "## Dataset\n",
        "\n",
        "\n",
        "```\n",
        "로컬 환경 시 해당 경로 사용\n",
        "```\n",
        "\n"
      ]
    },
    {
      "cell_type": "code",
      "execution_count": null,
      "metadata": {
        "colab": {
          "base_uri": "https://localhost:8080/"
        },
        "id": "SvgJvcO9d12M",
        "outputId": "a1873fcb-37c0-4cca-8e5b-eea123fd84d5"
      },
      "outputs": [
        {
          "output_type": "stream",
          "name": "stdout",
          "text": [
            "Drive already mounted at /content/drive; to attempt to forcibly remount, call drive.mount(\"/content/drive\", force_remount=True).\n"
          ]
        }
      ],
      "source": [
        "from google.colab import drive\n",
        "drive.mount('/content/drive')"
      ]
    },
    {
      "cell_type": "code",
      "execution_count": null,
      "metadata": {
        "colab": {
          "base_uri": "https://localhost:8080/"
        },
        "id": "6_mCe0n6wgZf",
        "outputId": "9e26358d-2d9f-4f57-978e-29268c4a738f"
      },
      "outputs": [
        {
          "output_type": "stream",
          "name": "stdout",
          "text": [
            "/content/drive/MyDrive/dataset\n"
          ]
        }
      ],
      "source": [
        "cd \"/content/drive/MyDrive/dataset\""
      ]
    },
    {
      "cell_type": "code",
      "execution_count": null,
      "metadata": {
        "colab": {
          "base_uri": "https://localhost:8080/"
        },
        "id": "OWyZDNNQwigB",
        "outputId": "f07e7ffd-8d13-475d-8e1c-a1f720b3defc"
      },
      "outputs": [
        {
          "output_type": "execute_result",
          "data": {
            "text/plain": [
              "      review_id                                            message  name  \\\n",
              "0        894957            색감 화사하고 밴딩 쫀쫀합니다 땀 흡수 잘되서 운동 시 잘 쓰고 있어요   만족도   \n",
              "1        951853  간편하고 가벼운  운동복이 필요해서요바지는 제가 입고 티셔츠는 딸이 입는걸로   넘...   만족도   \n",
              "2        954353                                  좋아요  많이 좋아요잘  쓸게요   만족도   \n",
              "3        955993                폼으로 마사지하기 귀찮을때 허벅지종아리 편하게풀려고 구매했습니다   만족도   \n",
              "4        992136                                기본색상입니다핑크 화이트와 잘어울림   만족도   \n",
              "...         ...                                                ...   ...   \n",
              "4495    1200590  바느질에서부터 차이가 느껴지네요 촘촘하고 견고하고 잘 만들어진 것 같아요 거기다 핏...  마감처리   \n",
              "4496    1201361  여름에 운동할때 입으려고 주문했는데요시원하고 좋네요주머니 소지품이 빠지지않게 깔끔한...  마감처리   \n",
              "4497    1206510               유명 스포츠 제품처럼 꼼꼼한 마감이니 제품의 질이 조금은 낮습니다  마감처리   \n",
              "4498    1206800  저는 우비대용으로 쓸 수 있을 것 같아 구매했는데 만족합니다 제가 쓰던 우비는 뻣뻣...  마감처리   \n",
              "4499    1276874  후디도 넉넉하게 잘 맞고 하비인 제게 바지도 붙지않고 좋아요 신축성도 좋아요 발목이...  마감처리   \n",
              "\n",
              "      sentiment                                          highlight  \n",
              "0             1                                   색감 화사하고 밴딩 쫀쫀합니다  \n",
              "1             2  간편하고 가벼운  운동복이 필요해서요바지는 제가 입고 티셔츠는 딸이 입는걸로   넘...  \n",
              "2             2                                             많이 좋아요  \n",
              "3             1                                                NaN  \n",
              "4             1                                            기본색상입니다  \n",
              "...         ...                                                ...  \n",
              "4495          0                            촘하고 견고하고 잘 만들어진 것 같아요 거  \n",
              "4496          0         니 소지품이 빠지지않게 깔끔한 지퍼와 밴딩 박음까지두벌 구매했는데 잘입을께요  \n",
              "4497          0               유명 스포츠 제품처럼 꼼꼼한 마감이니 제품의 질이 조금은 낮습니다  \n",
              "4498          0  가 쓰던 우비는 뻣뻣하고 입을때마다 접힌자국이 신경쓰였는데 이 제품도 구겨진자국들이...  \n",
              "4499          0        발목이 넉넉해서 쫄림은 없는데 시보리로 마감하면 더 슬림해보이고 예쁠것 같아요  \n",
              "\n",
              "[4500 rows x 5 columns]"
            ],
            "text/html": [
              "\n",
              "  <div id=\"df-44369135-0be7-4dd9-ada3-2964b5703483\" class=\"colab-df-container\">\n",
              "    <div>\n",
              "<style scoped>\n",
              "    .dataframe tbody tr th:only-of-type {\n",
              "        vertical-align: middle;\n",
              "    }\n",
              "\n",
              "    .dataframe tbody tr th {\n",
              "        vertical-align: top;\n",
              "    }\n",
              "\n",
              "    .dataframe thead th {\n",
              "        text-align: right;\n",
              "    }\n",
              "</style>\n",
              "<table border=\"1\" class=\"dataframe\">\n",
              "  <thead>\n",
              "    <tr style=\"text-align: right;\">\n",
              "      <th></th>\n",
              "      <th>review_id</th>\n",
              "      <th>message</th>\n",
              "      <th>name</th>\n",
              "      <th>sentiment</th>\n",
              "      <th>highlight</th>\n",
              "    </tr>\n",
              "  </thead>\n",
              "  <tbody>\n",
              "    <tr>\n",
              "      <th>0</th>\n",
              "      <td>894957</td>\n",
              "      <td>색감 화사하고 밴딩 쫀쫀합니다 땀 흡수 잘되서 운동 시 잘 쓰고 있어요</td>\n",
              "      <td>만족도</td>\n",
              "      <td>1</td>\n",
              "      <td>색감 화사하고 밴딩 쫀쫀합니다</td>\n",
              "    </tr>\n",
              "    <tr>\n",
              "      <th>1</th>\n",
              "      <td>951853</td>\n",
              "      <td>간편하고 가벼운  운동복이 필요해서요바지는 제가 입고 티셔츠는 딸이 입는걸로   넘...</td>\n",
              "      <td>만족도</td>\n",
              "      <td>2</td>\n",
              "      <td>간편하고 가벼운  운동복이 필요해서요바지는 제가 입고 티셔츠는 딸이 입는걸로   넘...</td>\n",
              "    </tr>\n",
              "    <tr>\n",
              "      <th>2</th>\n",
              "      <td>954353</td>\n",
              "      <td>좋아요  많이 좋아요잘  쓸게요</td>\n",
              "      <td>만족도</td>\n",
              "      <td>2</td>\n",
              "      <td>많이 좋아요</td>\n",
              "    </tr>\n",
              "    <tr>\n",
              "      <th>3</th>\n",
              "      <td>955993</td>\n",
              "      <td>폼으로 마사지하기 귀찮을때 허벅지종아리 편하게풀려고 구매했습니다</td>\n",
              "      <td>만족도</td>\n",
              "      <td>1</td>\n",
              "      <td>NaN</td>\n",
              "    </tr>\n",
              "    <tr>\n",
              "      <th>4</th>\n",
              "      <td>992136</td>\n",
              "      <td>기본색상입니다핑크 화이트와 잘어울림</td>\n",
              "      <td>만족도</td>\n",
              "      <td>1</td>\n",
              "      <td>기본색상입니다</td>\n",
              "    </tr>\n",
              "    <tr>\n",
              "      <th>...</th>\n",
              "      <td>...</td>\n",
              "      <td>...</td>\n",
              "      <td>...</td>\n",
              "      <td>...</td>\n",
              "      <td>...</td>\n",
              "    </tr>\n",
              "    <tr>\n",
              "      <th>4495</th>\n",
              "      <td>1200590</td>\n",
              "      <td>바느질에서부터 차이가 느껴지네요 촘촘하고 견고하고 잘 만들어진 것 같아요 거기다 핏...</td>\n",
              "      <td>마감처리</td>\n",
              "      <td>0</td>\n",
              "      <td>촘하고 견고하고 잘 만들어진 것 같아요 거</td>\n",
              "    </tr>\n",
              "    <tr>\n",
              "      <th>4496</th>\n",
              "      <td>1201361</td>\n",
              "      <td>여름에 운동할때 입으려고 주문했는데요시원하고 좋네요주머니 소지품이 빠지지않게 깔끔한...</td>\n",
              "      <td>마감처리</td>\n",
              "      <td>0</td>\n",
              "      <td>니 소지품이 빠지지않게 깔끔한 지퍼와 밴딩 박음까지두벌 구매했는데 잘입을께요</td>\n",
              "    </tr>\n",
              "    <tr>\n",
              "      <th>4497</th>\n",
              "      <td>1206510</td>\n",
              "      <td>유명 스포츠 제품처럼 꼼꼼한 마감이니 제품의 질이 조금은 낮습니다</td>\n",
              "      <td>마감처리</td>\n",
              "      <td>0</td>\n",
              "      <td>유명 스포츠 제품처럼 꼼꼼한 마감이니 제품의 질이 조금은 낮습니다</td>\n",
              "    </tr>\n",
              "    <tr>\n",
              "      <th>4498</th>\n",
              "      <td>1206800</td>\n",
              "      <td>저는 우비대용으로 쓸 수 있을 것 같아 구매했는데 만족합니다 제가 쓰던 우비는 뻣뻣...</td>\n",
              "      <td>마감처리</td>\n",
              "      <td>0</td>\n",
              "      <td>가 쓰던 우비는 뻣뻣하고 입을때마다 접힌자국이 신경쓰였는데 이 제품도 구겨진자국들이...</td>\n",
              "    </tr>\n",
              "    <tr>\n",
              "      <th>4499</th>\n",
              "      <td>1276874</td>\n",
              "      <td>후디도 넉넉하게 잘 맞고 하비인 제게 바지도 붙지않고 좋아요 신축성도 좋아요 발목이...</td>\n",
              "      <td>마감처리</td>\n",
              "      <td>0</td>\n",
              "      <td>발목이 넉넉해서 쫄림은 없는데 시보리로 마감하면 더 슬림해보이고 예쁠것 같아요</td>\n",
              "    </tr>\n",
              "  </tbody>\n",
              "</table>\n",
              "<p>4500 rows × 5 columns</p>\n",
              "</div>\n",
              "    <div class=\"colab-df-buttons\">\n",
              "\n",
              "  <div class=\"colab-df-container\">\n",
              "    <button class=\"colab-df-convert\" onclick=\"convertToInteractive('df-44369135-0be7-4dd9-ada3-2964b5703483')\"\n",
              "            title=\"Convert this dataframe to an interactive table.\"\n",
              "            style=\"display:none;\">\n",
              "\n",
              "  <svg xmlns=\"http://www.w3.org/2000/svg\" height=\"24px\" viewBox=\"0 -960 960 960\">\n",
              "    <path d=\"M120-120v-720h720v720H120Zm60-500h600v-160H180v160Zm220 220h160v-160H400v160Zm0 220h160v-160H400v160ZM180-400h160v-160H180v160Zm440 0h160v-160H620v160ZM180-180h160v-160H180v160Zm440 0h160v-160H620v160Z\"/>\n",
              "  </svg>\n",
              "    </button>\n",
              "\n",
              "  <style>\n",
              "    .colab-df-container {\n",
              "      display:flex;\n",
              "      gap: 12px;\n",
              "    }\n",
              "\n",
              "    .colab-df-convert {\n",
              "      background-color: #E8F0FE;\n",
              "      border: none;\n",
              "      border-radius: 50%;\n",
              "      cursor: pointer;\n",
              "      display: none;\n",
              "      fill: #1967D2;\n",
              "      height: 32px;\n",
              "      padding: 0 0 0 0;\n",
              "      width: 32px;\n",
              "    }\n",
              "\n",
              "    .colab-df-convert:hover {\n",
              "      background-color: #E2EBFA;\n",
              "      box-shadow: 0px 1px 2px rgba(60, 64, 67, 0.3), 0px 1px 3px 1px rgba(60, 64, 67, 0.15);\n",
              "      fill: #174EA6;\n",
              "    }\n",
              "\n",
              "    .colab-df-buttons div {\n",
              "      margin-bottom: 4px;\n",
              "    }\n",
              "\n",
              "    [theme=dark] .colab-df-convert {\n",
              "      background-color: #3B4455;\n",
              "      fill: #D2E3FC;\n",
              "    }\n",
              "\n",
              "    [theme=dark] .colab-df-convert:hover {\n",
              "      background-color: #434B5C;\n",
              "      box-shadow: 0px 1px 3px 1px rgba(0, 0, 0, 0.15);\n",
              "      filter: drop-shadow(0px 1px 2px rgba(0, 0, 0, 0.3));\n",
              "      fill: #FFFFFF;\n",
              "    }\n",
              "  </style>\n",
              "\n",
              "    <script>\n",
              "      const buttonEl =\n",
              "        document.querySelector('#df-44369135-0be7-4dd9-ada3-2964b5703483 button.colab-df-convert');\n",
              "      buttonEl.style.display =\n",
              "        google.colab.kernel.accessAllowed ? 'block' : 'none';\n",
              "\n",
              "      async function convertToInteractive(key) {\n",
              "        const element = document.querySelector('#df-44369135-0be7-4dd9-ada3-2964b5703483');\n",
              "        const dataTable =\n",
              "          await google.colab.kernel.invokeFunction('convertToInteractive',\n",
              "                                                    [key], {});\n",
              "        if (!dataTable) return;\n",
              "\n",
              "        const docLinkHtml = 'Like what you see? Visit the ' +\n",
              "          '<a target=\"_blank\" href=https://colab.research.google.com/notebooks/data_table.ipynb>data table notebook</a>'\n",
              "          + ' to learn more about interactive tables.';\n",
              "        element.innerHTML = '';\n",
              "        dataTable['output_type'] = 'display_data';\n",
              "        await google.colab.output.renderOutput(dataTable, element);\n",
              "        const docLink = document.createElement('div');\n",
              "        docLink.innerHTML = docLinkHtml;\n",
              "        element.appendChild(docLink);\n",
              "      }\n",
              "    </script>\n",
              "  </div>\n",
              "\n",
              "\n",
              "<div id=\"df-da86d414-c7ea-4e6c-8312-3071970ea66c\">\n",
              "  <button class=\"colab-df-quickchart\" onclick=\"quickchart('df-da86d414-c7ea-4e6c-8312-3071970ea66c')\"\n",
              "            title=\"Suggest charts.\"\n",
              "            style=\"display:none;\">\n",
              "\n",
              "<svg xmlns=\"http://www.w3.org/2000/svg\" height=\"24px\"viewBox=\"0 0 24 24\"\n",
              "     width=\"24px\">\n",
              "    <g>\n",
              "        <path d=\"M19 3H5c-1.1 0-2 .9-2 2v14c0 1.1.9 2 2 2h14c1.1 0 2-.9 2-2V5c0-1.1-.9-2-2-2zM9 17H7v-7h2v7zm4 0h-2V7h2v10zm4 0h-2v-4h2v4z\"/>\n",
              "    </g>\n",
              "</svg>\n",
              "  </button>\n",
              "\n",
              "<style>\n",
              "  .colab-df-quickchart {\n",
              "      --bg-color: #E8F0FE;\n",
              "      --fill-color: #1967D2;\n",
              "      --hover-bg-color: #E2EBFA;\n",
              "      --hover-fill-color: #174EA6;\n",
              "      --disabled-fill-color: #AAA;\n",
              "      --disabled-bg-color: #DDD;\n",
              "  }\n",
              "\n",
              "  [theme=dark] .colab-df-quickchart {\n",
              "      --bg-color: #3B4455;\n",
              "      --fill-color: #D2E3FC;\n",
              "      --hover-bg-color: #434B5C;\n",
              "      --hover-fill-color: #FFFFFF;\n",
              "      --disabled-bg-color: #3B4455;\n",
              "      --disabled-fill-color: #666;\n",
              "  }\n",
              "\n",
              "  .colab-df-quickchart {\n",
              "    background-color: var(--bg-color);\n",
              "    border: none;\n",
              "    border-radius: 50%;\n",
              "    cursor: pointer;\n",
              "    display: none;\n",
              "    fill: var(--fill-color);\n",
              "    height: 32px;\n",
              "    padding: 0;\n",
              "    width: 32px;\n",
              "  }\n",
              "\n",
              "  .colab-df-quickchart:hover {\n",
              "    background-color: var(--hover-bg-color);\n",
              "    box-shadow: 0 1px 2px rgba(60, 64, 67, 0.3), 0 1px 3px 1px rgba(60, 64, 67, 0.15);\n",
              "    fill: var(--button-hover-fill-color);\n",
              "  }\n",
              "\n",
              "  .colab-df-quickchart-complete:disabled,\n",
              "  .colab-df-quickchart-complete:disabled:hover {\n",
              "    background-color: var(--disabled-bg-color);\n",
              "    fill: var(--disabled-fill-color);\n",
              "    box-shadow: none;\n",
              "  }\n",
              "\n",
              "  .colab-df-spinner {\n",
              "    border: 2px solid var(--fill-color);\n",
              "    border-color: transparent;\n",
              "    border-bottom-color: var(--fill-color);\n",
              "    animation:\n",
              "      spin 1s steps(1) infinite;\n",
              "  }\n",
              "\n",
              "  @keyframes spin {\n",
              "    0% {\n",
              "      border-color: transparent;\n",
              "      border-bottom-color: var(--fill-color);\n",
              "      border-left-color: var(--fill-color);\n",
              "    }\n",
              "    20% {\n",
              "      border-color: transparent;\n",
              "      border-left-color: var(--fill-color);\n",
              "      border-top-color: var(--fill-color);\n",
              "    }\n",
              "    30% {\n",
              "      border-color: transparent;\n",
              "      border-left-color: var(--fill-color);\n",
              "      border-top-color: var(--fill-color);\n",
              "      border-right-color: var(--fill-color);\n",
              "    }\n",
              "    40% {\n",
              "      border-color: transparent;\n",
              "      border-right-color: var(--fill-color);\n",
              "      border-top-color: var(--fill-color);\n",
              "    }\n",
              "    60% {\n",
              "      border-color: transparent;\n",
              "      border-right-color: var(--fill-color);\n",
              "    }\n",
              "    80% {\n",
              "      border-color: transparent;\n",
              "      border-right-color: var(--fill-color);\n",
              "      border-bottom-color: var(--fill-color);\n",
              "    }\n",
              "    90% {\n",
              "      border-color: transparent;\n",
              "      border-bottom-color: var(--fill-color);\n",
              "    }\n",
              "  }\n",
              "</style>\n",
              "\n",
              "  <script>\n",
              "    async function quickchart(key) {\n",
              "      const quickchartButtonEl =\n",
              "        document.querySelector('#' + key + ' button');\n",
              "      quickchartButtonEl.disabled = true;  // To prevent multiple clicks.\n",
              "      quickchartButtonEl.classList.add('colab-df-spinner');\n",
              "      try {\n",
              "        const charts = await google.colab.kernel.invokeFunction(\n",
              "            'suggestCharts', [key], {});\n",
              "      } catch (error) {\n",
              "        console.error('Error during call to suggestCharts:', error);\n",
              "      }\n",
              "      quickchartButtonEl.classList.remove('colab-df-spinner');\n",
              "      quickchartButtonEl.classList.add('colab-df-quickchart-complete');\n",
              "    }\n",
              "    (() => {\n",
              "      let quickchartButtonEl =\n",
              "        document.querySelector('#df-da86d414-c7ea-4e6c-8312-3071970ea66c button');\n",
              "      quickchartButtonEl.style.display =\n",
              "        google.colab.kernel.accessAllowed ? 'block' : 'none';\n",
              "    })();\n",
              "  </script>\n",
              "</div>\n",
              "    </div>\n",
              "  </div>\n"
            ]
          },
          "metadata": {},
          "execution_count": 7
        }
      ],
      "source": [
        "# 키워드(인코딩)와 하이라이트 형태\n",
        "import pandas as pd\n",
        "df = pd.read_csv(\"./test7.csv\", encoding=\"UTF-8\", index_col=False)\n",
        "df"
      ]
    },
    {
      "cell_type": "markdown",
      "metadata": {
        "id": "RENFg9FSptVB"
      },
      "source": [
        "## 전처리"
      ]
    },
    {
      "cell_type": "code",
      "source": [
        "df = df.loc[:,['message','name','sentiment']]"
      ],
      "metadata": {
        "id": "HvZeCSYfWYSY"
      },
      "execution_count": null,
      "outputs": []
    },
    {
      "cell_type": "code",
      "source": [
        "df.isna().sum()"
      ],
      "metadata": {
        "colab": {
          "base_uri": "https://localhost:8080/"
        },
        "id": "rpPGs45ZWeB2",
        "outputId": "d7c28a89-6088-4bf8-8d14-5d5f0f226737"
      },
      "execution_count": null,
      "outputs": [
        {
          "output_type": "execute_result",
          "data": {
            "text/plain": [
              "message      9\n",
              "name         0\n",
              "sentiment    0\n",
              "dtype: int64"
            ]
          },
          "metadata": {},
          "execution_count": 9
        }
      ]
    },
    {
      "cell_type": "code",
      "source": [
        "df = df[df['message'].notna() ]\n",
        "df = df[df['name'] != \"만족도\"]\n",
        "df = df.reset_index(drop=True)\n",
        "df['name'].unique()"
      ],
      "metadata": {
        "colab": {
          "base_uri": "https://localhost:8080/"
        },
        "id": "g2_w2Ud_WgVW",
        "outputId": "6189f7de-d7e4-470e-95b9-cad3d40387ed"
      },
      "execution_count": null,
      "outputs": [
        {
          "output_type": "execute_result",
          "data": {
            "text/plain": [
              "array(['착용감', '스타일', '품질', '사이즈', '라인(핏)', '배송', '디자인', '소재', '기능성', '색상',\n",
              "       '가격', '길이', '신축성', '마감처리'], dtype=object)"
            ]
          },
          "metadata": {},
          "execution_count": 10
        }
      ]
    },
    {
      "cell_type": "code",
      "source": [
        "df['label'] = [ df['name'][x] + str(df['sentiment'][x]) for x in range(len(df)) ]\n",
        "df['message2'] = [ \"### review: \"+df['message'][x]+\" ### keyword: \"+df['name'][x]  for x in range(len(df)) ]"
      ],
      "metadata": {
        "id": "8poKt-X8WiPf"
      },
      "execution_count": null,
      "outputs": []
    },
    {
      "cell_type": "code",
      "source": [
        "df['sentiment'] = df['sentiment'].replace(2,4).replace(1,3).replace(0,2).replace(-1,1).replace(-2,0)\n",
        "\n",
        "df['sentiment'].unique()"
      ],
      "metadata": {
        "colab": {
          "base_uri": "https://localhost:8080/"
        },
        "id": "FifN0DWvcvIe",
        "outputId": "06ab256b-76b5-4e56-b728-ca2a8368cd3b"
      },
      "execution_count": null,
      "outputs": [
        {
          "output_type": "execute_result",
          "data": {
            "text/plain": [
              "array([3, 4, 1, 0, 2])"
            ]
          },
          "metadata": {},
          "execution_count": 12
        }
      ]
    },
    {
      "cell_type": "code",
      "source": [
        "categories = df['label'].unique()\n",
        "train_df = pd.DataFrame()\n",
        "test_df = pd.DataFrame()\n",
        "\n",
        "\n",
        "for cat in categories:\n",
        "    category_data = df[df['label'] == cat]\n",
        "    train_size = int(len(category_data) * 0.8)\n",
        "    train_data = category_data.sample(n=train_size, replace=True, random_state=42)\n",
        "    test_data = category_data.drop(train_data.index)\n",
        "\n",
        "    train_df = pd.concat([train_df, train_data])\n",
        "    test_df = pd.concat([test_df, test_data])\n",
        "\n",
        "print(train_df.head())\n",
        "print(test_df.head())\n",
        "print(f\"트레인 라벨 수: {train_df['label'].unique().__len__()}\")\n",
        "print(f\"테스트 라벨 수: {test_df['label'].unique().__len__()}\")"
      ],
      "metadata": {
        "colab": {
          "base_uri": "https://localhost:8080/"
        },
        "id": "4jYx-momWmKh",
        "outputId": "6c7fbd50-8608-4f11-cff3-4aede396cf04"
      },
      "execution_count": null,
      "outputs": [
        {
          "output_type": "stream",
          "name": "stdout",
          "text": [
            "                                              message name  sentiment label  \\\n",
            "73        너무두껍지도 않고 발도 편해요짧은스타일찾고 있었는데 너무좋아요 재구매ㄱㄱ합니다  착용감          3  착용감1   \n",
            "24                              편하고 이쁜데 바로 세일들어가서 ㅠㅠ힝  착용감          3  착용감1   \n",
            "83  무릎아래가 좀 붙긴 하지만 재단이 잘 되어있어 생각보다 편합니다색깔도 이쁘고 가성비...  착용감          3  착용감1   \n",
            "31                                         부드러운 착용감 굿  착용감          3  착용감1   \n",
            "35  벨벳이라 살짝 걱정 했는데면이랑 똑같아요편하고 도톰해서 지금입기딱더 추워지연 기모레...  착용감          3  착용감1   \n",
            "\n",
            "                                             message2  \n",
            "73  ### review: 너무두껍지도 않고 발도 편해요짧은스타일찾고 있었는데 너무좋아요...  \n",
            "24  ### review: 편하고 이쁜데 바로 세일들어가서 ㅠㅠ힝 ### keyword:...  \n",
            "83  ### review: 무릎아래가 좀 붙긴 하지만 재단이 잘 되어있어 생각보다 편합니...  \n",
            "31            ### review: 부드러운 착용감 굿 ### keyword: 착용감  \n",
            "35  ### review: 벨벳이라 살짝 걱정 했는데면이랑 똑같아요편하고 도톰해서 지금입...  \n",
            "                                         message name  sentiment label  \\\n",
            "0                                   밀리지않고 색상이좋아요  착용감          3  착용감1   \n",
            "5                                   편하게 입기 딱 좋아요  착용감          3  착용감1   \n",
            "14  처음으로 사봤는데 편하고 좋네요 쫌더 살을 빼야할 듯 불끈불끈 의지도 타오르네요  착용감          3  착용감1   \n",
            "15        뒷트임이 있어 답답하지 않아 좋아요꼭 운동할 때 아니라도 입기 좋아요  착용감          3  착용감1   \n",
            "16                        소재가 조금 도톰합니다 활동성은 좋습니다  착용감          3  착용감1   \n",
            "\n",
            "                                             message2  \n",
            "0           ### review: 밀리지않고 색상이좋아요 ### keyword: 착용감  \n",
            "5           ### review: 편하게 입기 딱 좋아요 ### keyword: 착용감  \n",
            "14  ### review: 처음으로 사봤는데 편하고 좋네요 쫌더 살을 빼야할 듯 불끈불끈...  \n",
            "15  ### review: 뒷트임이 있어 답답하지 않아 좋아요꼭 운동할 때 아니라도 입기...  \n",
            "16  ### review: 소재가 조금 도톰합니다 활동성은 좋습니다 ### keyword...  \n",
            "트레인 라벨 수: 70\n",
            "테스트 라벨 수: 70\n"
          ]
        }
      ]
    },
    {
      "cell_type": "code",
      "source": [
        "train_df = train_df.iloc[:,[4,2]].reset_index(drop=True)\n",
        "test_df = test_df.iloc[:,[4,2]].reset_index(drop=True)\n",
        "print(train_df.head())\n",
        "print(test_df.head())"
      ],
      "metadata": {
        "colab": {
          "base_uri": "https://localhost:8080/"
        },
        "id": "VGqR_pFDWplf",
        "outputId": "f5f7f611-9dcf-4fed-e7ff-494eed86ee8a"
      },
      "execution_count": null,
      "outputs": [
        {
          "output_type": "stream",
          "name": "stdout",
          "text": [
            "                                            message2  sentiment\n",
            "0  ### review: 너무두껍지도 않고 발도 편해요짧은스타일찾고 있었는데 너무좋아요...          3\n",
            "1  ### review: 편하고 이쁜데 바로 세일들어가서 ㅠㅠ힝 ### keyword:...          3\n",
            "2  ### review: 무릎아래가 좀 붙긴 하지만 재단이 잘 되어있어 생각보다 편합니...          3\n",
            "3            ### review: 부드러운 착용감 굿 ### keyword: 착용감          3\n",
            "4  ### review: 벨벳이라 살짝 걱정 했는데면이랑 똑같아요편하고 도톰해서 지금입...          3\n",
            "                                            message2  sentiment\n",
            "0          ### review: 밀리지않고 색상이좋아요 ### keyword: 착용감          3\n",
            "1          ### review: 편하게 입기 딱 좋아요 ### keyword: 착용감          3\n",
            "2  ### review: 처음으로 사봤는데 편하고 좋네요 쫌더 살을 빼야할 듯 불끈불끈...          3\n",
            "3  ### review: 뒷트임이 있어 답답하지 않아 좋아요꼭 운동할 때 아니라도 입기...          3\n",
            "4  ### review: 소재가 조금 도톰합니다 활동성은 좋습니다 ### keyword...          3\n"
          ]
        }
      ]
    },
    {
      "cell_type": "code",
      "source": [
        "from datasets import Dataset, DatasetDict\n",
        "train_d = Dataset.from_pandas(train_df)\n",
        "test_d = Dataset.from_pandas(test_df)\n",
        "\n",
        "\n",
        "dataset = DatasetDict({\n",
        "    \"train\": train_d,\n",
        "    \"test\": test_d\n",
        "})"
      ],
      "metadata": {
        "id": "haSf40RqXU5y"
      },
      "execution_count": null,
      "outputs": []
    },
    {
      "cell_type": "code",
      "execution_count": null,
      "metadata": {
        "id": "vz01H6ThsDQE"
      },
      "outputs": [],
      "source": [
        "#공백 위치 설정\n",
        "if any(k in model_name_or_path for k in (\"gpt\", \"opt\", \"bloom\",\"ployglot\")):\n",
        "    padding_side = \"left\"\n",
        "else:\n",
        "    padding_side = \"right\"\n",
        "#토크나이저 불러오기\n",
        "tokenizer = AutoTokenizer.from_pretrained(model_name_or_path, padding_side=padding_side)\n",
        "if getattr(tokenizer, \"pad_token_id\") is None:\n",
        "    tokenizer.pad_token_id = tokenizer.eos_token_id  # 여백 토큰과 end of sentence token\n",
        "\n",
        "\n",
        "\n",
        "\n",
        "# 사이즈 안맞을 경우(polyglot 사용시)\n",
        "# CUTOFF_LEN = 2048\n",
        "# def tokenize(prompt, add_eos_token=True):\n",
        "#     result = tokenizer(\n",
        "#         prompt,\n",
        "#         truncation=True,\n",
        "#         max_length=CUTOFF_LEN,\n",
        "#         padding=False,\n",
        "#         return_tensors=None,\n",
        "#     )\n",
        "#     if (\n",
        "#         result[\"input_ids\"][-1] != tokenizer.eos_token_id\n",
        "#         and len(result[\"input_ids\"]) < CUTOFF_LEN\n",
        "#         and add_eos_token\n",
        "#     ):\n",
        "#         result[\"input_ids\"].append(tokenizer.eos_token_id)\n",
        "#         result[\"attention_mask\"].append(1)\n",
        "\n",
        "#     result[\"labels\"] = result[\"input_ids\"].copy()\n",
        "\n",
        "#     return result\n",
        "\n",
        "\n",
        "def tokenize_function(examples):\n",
        "    # max_length=None #=> use the model max length (it's actually the default)\n",
        "    outputs = tokenizer(examples[\"message2\"], truncation=True)\n",
        "    # del outputs['token_type_ids']\n",
        "    return outputs"
      ]
    },
    {
      "cell_type": "code",
      "execution_count": null,
      "metadata": {
        "id": "D7kaRDNqg3aB",
        "colab": {
          "base_uri": "https://localhost:8080/",
          "referenced_widgets": [
            "b15fed16f0f842c7820d338087873bbc",
            "f6855fae1df34673bb5aa44113072959",
            "f65de8748f04446fbe820fb70302824e",
            "d32ec1db56a0465ca24d6909599b2983",
            "24ccf1ca1f604629b3795dda1a1b0379",
            "64bc25820808467e9c922b06e09d872f",
            "3d48ccfa29104072af211ca31ac99a57",
            "7cd51eac8e1542419671cc2b16ac192e",
            "b2c3964654e2424aac7b36559f86fa31",
            "d996e62db00e495b9d46b4a57a1370a3",
            "ecaff6a88a354bf7a05b9368708ed4f2",
            "a4402b4a0aeb4530868bc2e058ce3416",
            "e064377be5e34f67accbac21e8acda64",
            "76b190ba2af74a3b9a5ebd9c2e56ec16",
            "562970dcad894d9e98846758e82babce",
            "8eabd02f40c94460bb16a9ad287cf9a4",
            "262d429b61a94f648bbc970c13d0fab5",
            "2cbba3280a244e6b867c930b0d928f76",
            "0e9ead8f59a047b29f0c865a1779ed58",
            "1a86e5e217f148119c1bb3fefd3ab151",
            "50e054924801432cba4994ef1c27e829",
            "f6dc6580bf9d4a6a98e6ddd51863be5c"
          ]
        },
        "outputId": "c6973831-a3ab-4c53-d884-2afda0cc0f33"
      },
      "outputs": [
        {
          "output_type": "display_data",
          "data": {
            "text/plain": [
              "Map:   0%|          | 0/3332 [00:00<?, ? examples/s]"
            ],
            "application/vnd.jupyter.widget-view+json": {
              "version_major": 2,
              "version_minor": 0,
              "model_id": "b15fed16f0f842c7820d338087873bbc"
            }
          },
          "metadata": {}
        },
        {
          "output_type": "stream",
          "name": "stderr",
          "text": [
            "Asking to truncate to max_length but no maximum length is provided and the model has no predefined maximum length. Default to no truncation.\n"
          ]
        },
        {
          "output_type": "display_data",
          "data": {
            "text/plain": [
              "Map:   0%|          | 0/1922 [00:00<?, ? examples/s]"
            ],
            "application/vnd.jupyter.widget-view+json": {
              "version_major": 2,
              "version_minor": 0,
              "model_id": "a4402b4a0aeb4530868bc2e058ce3416"
            }
          },
          "metadata": {}
        }
      ],
      "source": [
        "tokenized_datasets = dataset.shuffle(seed=42).map(\n",
        "    tokenize_function,\n",
        "    batched=True,\n",
        "    remove_columns=[\"message2\"],)  #message컬럼은 불필요\n",
        "\n",
        "tokenized_datasets = tokenized_datasets.rename_column(\"sentiment\", \"labels\")"
      ]
    },
    {
      "cell_type": "code",
      "execution_count": null,
      "metadata": {
        "id": "PkI2skInlyCw",
        "colab": {
          "base_uri": "https://localhost:8080/"
        },
        "outputId": "c4a9943d-9843-4f80-cbbc-f7ec3f138b0a"
      },
      "outputs": [
        {
          "output_type": "execute_result",
          "data": {
            "text/plain": [
              "DatasetDict({\n",
              "    train: Dataset({\n",
              "        features: ['labels', 'input_ids', 'token_type_ids', 'attention_mask'],\n",
              "        num_rows: 3332\n",
              "    })\n",
              "    test: Dataset({\n",
              "        features: ['labels', 'input_ids', 'token_type_ids', 'attention_mask'],\n",
              "        num_rows: 1922\n",
              "    })\n",
              "})"
            ]
          },
          "metadata": {},
          "execution_count": 18
        }
      ],
      "source": [
        "tokenized_datasets"
      ]
    },
    {
      "cell_type": "code",
      "source": [
        "tokenized_datasets['train'][1000]"
      ],
      "metadata": {
        "colab": {
          "base_uri": "https://localhost:8080/"
        },
        "id": "vzJ9x4av6ffm",
        "outputId": "ddc0ddfb-27ff-4691-8018-6c12ff1525bb"
      },
      "execution_count": null,
      "outputs": [
        {
          "output_type": "execute_result",
          "data": {
            "text/plain": [
              "{'labels': 3,\n",
              " 'input_ids': [6,\n",
              "  6,\n",
              "  6,\n",
              "  21924,\n",
              "  89,\n",
              "  76,\n",
              "  11594,\n",
              "  29,\n",
              "  3496,\n",
              "  226,\n",
              "  11109,\n",
              "  226,\n",
              "  14488,\n",
              "  1591,\n",
              "  1130,\n",
              "  3926,\n",
              "  6501,\n",
              "  6,\n",
              "  6,\n",
              "  9775,\n",
              "  25997,\n",
              "  90,\n",
              "  25010,\n",
              "  29,\n",
              "  3844],\n",
              " 'token_type_ids': [0,\n",
              "  0,\n",
              "  0,\n",
              "  0,\n",
              "  0,\n",
              "  0,\n",
              "  0,\n",
              "  0,\n",
              "  0,\n",
              "  0,\n",
              "  0,\n",
              "  0,\n",
              "  0,\n",
              "  0,\n",
              "  0,\n",
              "  0,\n",
              "  0,\n",
              "  0,\n",
              "  0,\n",
              "  0,\n",
              "  0,\n",
              "  0,\n",
              "  0,\n",
              "  0,\n",
              "  0],\n",
              " 'attention_mask': [1,\n",
              "  1,\n",
              "  1,\n",
              "  1,\n",
              "  1,\n",
              "  1,\n",
              "  1,\n",
              "  1,\n",
              "  1,\n",
              "  1,\n",
              "  1,\n",
              "  1,\n",
              "  1,\n",
              "  1,\n",
              "  1,\n",
              "  1,\n",
              "  1,\n",
              "  1,\n",
              "  1,\n",
              "  1,\n",
              "  1,\n",
              "  1,\n",
              "  1,\n",
              "  1,\n",
              "  1]}"
            ]
          },
          "metadata": {},
          "execution_count": 19
        }
      ]
    },
    {
      "cell_type": "markdown",
      "metadata": {
        "id": "co5sGLKhqHO5"
      },
      "source": [
        "## peft, 모델 설정"
      ]
    },
    {
      "cell_type": "code",
      "execution_count": null,
      "metadata": {
        "id": "JHyPbPsd6KIV"
      },
      "outputs": [],
      "source": [
        "LORA_R = 4 #8 the rank of the update matrices, Lower rank results in smaller update matrices with fewer trainable parameters.\n",
        "LORA_ALPHA = 16 #  LoRA scaling factor.\n",
        "LORA_DROPOUT= 0.3  #0.2 The modules (for example, attention blocks) to apply the LoRA update matrices.\n",
        "# LORA_TARGET_MODULES = [\"query\",\"value\"]\n",
        "# LORA_TARGET_MODULES = [ \"q_proj\", \"v_proj\" ] #llama\n",
        "LORA_TARGET_MODULES = [\"query_key_value\"] #causal\n",
        "\n"
      ]
    },
    {
      "cell_type": "code",
      "execution_count": null,
      "metadata": {
        "id": "5SVIxGhUorW3"
      },
      "outputs": [],
      "source": [
        "peft_config = LoraConfig(\n",
        "    r=LORA_R,\n",
        "    lora_alpha=LORA_ALPHA,\n",
        "    target_modules=LORA_TARGET_MODULES,\n",
        "    lora_dropout=LORA_DROPOUT,\n",
        "    bias=\"none\",\n",
        "    task_type=\"SEQ_CLS\",\n",
        ")\n"
      ]
    },
    {
      "cell_type": "code",
      "execution_count": null,
      "metadata": {
        "id": "OPmfOpQQtDMN"
      },
      "outputs": [],
      "source": [
        "#Data collators are objects that will form a batch by using a list of dataset elements as input.\n",
        "#These elements are of the same type as the elements of train_dataset or eval_dataset.\n",
        "data_collator = DataCollatorWithPadding(tokenizer=tokenizer)\n"
      ]
    },
    {
      "cell_type": "code",
      "execution_count": null,
      "metadata": {
        "colab": {
          "base_uri": "https://localhost:8080/",
          "referenced_widgets": [
            "9adc1714990645858fadcda57371cadc",
            "03527a0ba927487eb14b5d6a78e58bf4",
            "2de1fb2f03c34a7f864430664d247c48",
            "16f630ca1342424faf64409579f18a06",
            "e7375d05cf8242f0939aee937d0468f6",
            "3ff0b18627be4b1cb487d1b974b8cf45",
            "f9446a9ff48943b0a991f08b699f848f",
            "97ad2f387f8648299a7eb7c34ee4cda2",
            "c2dd31c7d4364171bf54cbf98ae14864",
            "cffe26da4c1148abb73bc5885caf28a9",
            "77cdbe61519343c38d03a0c03f90d092"
          ]
        },
        "id": "BzLgNlumd66h",
        "outputId": "91d10666-89b4-4ca9-b4e5-efc8d3f54d2d"
      },
      "outputs": [
        {
          "output_type": "display_data",
          "data": {
            "text/plain": [
              "Loading checkpoint shards:   0%|          | 0/3 [00:00<?, ?it/s]"
            ],
            "application/vnd.jupyter.widget-view+json": {
              "version_major": 2,
              "version_minor": 0,
              "model_id": "9adc1714990645858fadcda57371cadc"
            }
          },
          "metadata": {}
        },
        {
          "output_type": "stream",
          "name": "stderr",
          "text": [
            "Some weights of GPTNeoXForSequenceClassification were not initialized from the model checkpoint at EleutherAI/polyglot-ko-1.3b and are newly initialized: ['score.weight']\n",
            "You should probably TRAIN this model on a down-stream task to be able to use it for predictions and inference.\n"
          ]
        },
        {
          "output_type": "stream",
          "name": "stdout",
          "text": [
            "trainable params: 796,672 || all params: 1,271,013,376 || trainable%: 0.06268006419469814\n"
          ]
        }
      ],
      "source": [
        "id2label = {0: \"매우부정\", 1: \"부정\", 2: \"중립\", 3: \"긍정\", 4: \"매우긍정\"}\n",
        "label2id = {\"매우부정\": 0, \"부정\": 1, \"중립\": 2, \"긍정\": 3, \"매우긍정\": 4}\n",
        "\n",
        "\n",
        "model = AutoModelForSequenceClassification.from_pretrained(\n",
        "    model_name_or_path, num_labels=5, id2label=id2label, label2id=label2id,\n",
        "    pad_token_id=tokenizer.pad_token_id\n",
        "    # ,ignore_mismatched_sizes=True\n",
        ")\n",
        "\n",
        "model = get_peft_model(model, peft_config)\n",
        "model.print_trainable_parameters()"
      ]
    },
    {
      "cell_type": "code",
      "source": [
        "from sklearn.metrics import accuracy_score, f1_score\n",
        "\n",
        "def compute_metrics(pred):\n",
        "  labels = pred.label_ids\n",
        "  preds = pred.predictions.argmax(-1)\n",
        "  f1 = f1_score(labels, preds, average=\"weighted\")\n",
        "  acc=accuracy_score(labels , preds)\n",
        "  return {\"accuracy\":acc, \"f1\": f1}"
      ],
      "metadata": {
        "id": "xLrGwo_FV8g1"
      },
      "execution_count": null,
      "outputs": []
    },
    {
      "cell_type": "markdown",
      "metadata": {
        "id": "YBmdF1XJ7ZOu"
      },
      "source": [
        "## Training"
      ]
    },
    {
      "cell_type": "code",
      "execution_count": null,
      "metadata": {
        "id": "8EoqGxGOH94H",
        "colab": {
          "base_uri": "https://localhost:8080/"
        },
        "outputId": "0de5f2d3-e9d9-4de7-c072-46ca293b34e7"
      },
      "outputs": [
        {
          "output_type": "stream",
          "name": "stdout",
          "text": [
            "\u001b[34m\u001b[1mwandb\u001b[0m: Currently logged in as: \u001b[33mjeongdongseon\u001b[0m. Use \u001b[1m`wandb login --relogin`\u001b[0m to force relogin\n"
          ]
        }
      ],
      "source": [
        "!wandb login"
      ]
    },
    {
      "cell_type": "code",
      "execution_count": null,
      "metadata": {
        "id": "lluOe-gSHJFr"
      },
      "outputs": [],
      "source": [
        "# set the wandb project where this run will be logged\n",
        "os.environ[\"WANDB_PROJECT\"]=\"cllama\"\n",
        "\n",
        "# save your trained model checkpoint to wandb\n",
        "os.environ[\"WANDB_LOG_MODEL\"]=\"true\"\n",
        "\n",
        "# turn off watch to log faster\n",
        "os.environ[\"WANDB_WATCH\"]=\"false\""
      ]
    },
    {
      "cell_type": "code",
      "execution_count": null,
      "metadata": {
        "id": "-urSep2JDVH0"
      },
      "outputs": [],
      "source": [
        "training_args = TrainingArguments(\n",
        "    output_dir=\"dongseon/ployglot_test\",\n",
        "    learning_rate= 1e-4, #5e-4\n",
        "    per_device_train_batch_size=8, #64\n",
        "    per_device_eval_batch_size=8,  #16\n",
        "    num_train_epochs= 4 , #120\n",
        "\n",
        "    optim=\"adamw_torch\",\n",
        "    # eval_accumulation_steps  = 2, # (더 빠르지만 더 많은 메모리가 필요함).\n",
        "    # gradient_accumulation_steps  = 128//32 ,  # 역방향/업데이트 단계를 수행하기 전에 기울기를 누적할 업데이트 단계 수\n",
        "    adam_beta1 = 0.9, #( float, 선택 사항 , 기본값은 0.9) — AdamW 최적화 프로그램 의 beta1  매개변수\n",
        "    adam_beta2 = 0.999, #( float, 선택 사항 , 기본값은 0.999) — AdamW 최적화 프로그램 의 beta2  매개변수\n",
        "    adam_epsilon= 1e-8, # ( float, 선택 사항 , 기본값은 1e-8) — AdamW 최적화 프로그램 의 엡실론  매개변수\n",
        "    # max_grad_norm= 4, # ( float, 선택 사항 , 기본값은 1.0) — 최대 그라데이션 표준(그라디언트 클리핑용).\n",
        "    fp16 = True, # ( bool, 선택 사항 , 기본값은 False) — 32비트 훈련 대신 fp16 16비트(혼합) 정밀도 훈련을 사용할지\n",
        "    # label_smoothing_factor = 0.1, # ( float, 선택 사항 , 기본값은 0.0) — 원핫 인코딩 레이블이 각각 0과 1에서 label_smoothing_factor/num_labels,,,label_smoothing_factor + label_smoothing_factor/num_labels.\n",
        "\n",
        "    weight_decay= 1.5 , #가중치 감소, 커질수록 오버피팅 방지 0.05\n",
        "    evaluation_strategy=\"steps\",\n",
        "    save_strategy=\"steps\",\n",
        "    load_best_model_at_end=True,\n",
        "    report_to=\"wandb\",\n",
        ")"
      ]
    },
    {
      "cell_type": "code",
      "execution_count": null,
      "metadata": {
        "colab": {
          "base_uri": "https://localhost:8080/",
          "height": 313
        },
        "id": "-4eVtddRvSx4",
        "outputId": "2ad6224e-06b1-4db2-d33a-849407714211"
      },
      "outputs": [
        {
          "output_type": "stream",
          "name": "stderr",
          "text": [
            "\u001b[34m\u001b[1mwandb\u001b[0m: Currently logged in as: \u001b[33mjeongdongseon\u001b[0m. Use \u001b[1m`wandb login --relogin`\u001b[0m to force relogin\n"
          ]
        },
        {
          "output_type": "display_data",
          "data": {
            "text/plain": [
              "<IPython.core.display.HTML object>"
            ],
            "text/html": [
              "Tracking run with wandb version 0.15.12"
            ]
          },
          "metadata": {}
        },
        {
          "output_type": "display_data",
          "data": {
            "text/plain": [
              "<IPython.core.display.HTML object>"
            ],
            "text/html": [
              "Run data is saved locally in <code>/content/drive/MyDrive/dataset/wandb/run-20231105_125917-7hmolapn</code>"
            ]
          },
          "metadata": {}
        },
        {
          "output_type": "display_data",
          "data": {
            "text/plain": [
              "<IPython.core.display.HTML object>"
            ],
            "text/html": [
              "Syncing run <strong><a href='https://wandb.ai/jeongdongseon/cllama/runs/7hmolapn' target=\"_blank\">flowing-wind-222</a></strong> to <a href='https://wandb.ai/jeongdongseon/cllama' target=\"_blank\">Weights & Biases</a> (<a href='https://wandb.me/run' target=\"_blank\">docs</a>)<br/>"
            ]
          },
          "metadata": {}
        },
        {
          "output_type": "display_data",
          "data": {
            "text/plain": [
              "<IPython.core.display.HTML object>"
            ],
            "text/html": [
              " View project at <a href='https://wandb.ai/jeongdongseon/cllama' target=\"_blank\">https://wandb.ai/jeongdongseon/cllama</a>"
            ]
          },
          "metadata": {}
        },
        {
          "output_type": "display_data",
          "data": {
            "text/plain": [
              "<IPython.core.display.HTML object>"
            ],
            "text/html": [
              " View run at <a href='https://wandb.ai/jeongdongseon/cllama/runs/7hmolapn' target=\"_blank\">https://wandb.ai/jeongdongseon/cllama/runs/7hmolapn</a>"
            ]
          },
          "metadata": {}
        },
        {
          "output_type": "stream",
          "name": "stderr",
          "text": [
            "You're using a PreTrainedTokenizerFast tokenizer. Please note that with a fast tokenizer, using the `__call__` method is faster than using a method to encode the text followed by a call to the `pad` method to get a padded encoding.\n"
          ]
        },
        {
          "output_type": "display_data",
          "data": {
            "text/plain": [
              "<IPython.core.display.HTML object>"
            ],
            "text/html": [
              "\n",
              "    <div>\n",
              "      \n",
              "      <progress value='1668' max='1668' style='width:300px; height:20px; vertical-align: middle;'></progress>\n",
              "      [1668/1668 03:40, Epoch 4/4]\n",
              "    </div>\n",
              "    <table border=\"1\" class=\"dataframe\">\n",
              "  <thead>\n",
              " <tr style=\"text-align: left;\">\n",
              "      <th>Step</th>\n",
              "      <th>Training Loss</th>\n",
              "      <th>Validation Loss</th>\n",
              "    </tr>\n",
              "  </thead>\n",
              "  <tbody>\n",
              "    <tr>\n",
              "      <td>500</td>\n",
              "      <td>1.100900</td>\n",
              "      <td>0.976710</td>\n",
              "    </tr>\n",
              "    <tr>\n",
              "      <td>1000</td>\n",
              "      <td>0.696100</td>\n",
              "      <td>1.046606</td>\n",
              "    </tr>\n",
              "    <tr>\n",
              "      <td>1500</td>\n",
              "      <td>0.433400</td>\n",
              "      <td>1.145926</td>\n",
              "    </tr>\n",
              "  </tbody>\n",
              "</table><p>"
            ]
          },
          "metadata": {}
        },
        {
          "output_type": "execute_result",
          "data": {
            "text/plain": [
              "TrainOutput(global_step=1668, training_loss=0.702001320086509, metrics={'train_runtime': 225.2044, 'train_samples_per_second': 59.182, 'train_steps_per_second': 7.407, 'total_flos': 1.0222635693441024e+16, 'train_loss': 0.702001320086509, 'epoch': 4.0})"
            ]
          },
          "metadata": {},
          "execution_count": 28
        }
      ],
      "source": [
        "trainer = Trainer(\n",
        "    model=model,\n",
        "    args=training_args,\n",
        "    train_dataset=tokenized_datasets[\"train\"],\n",
        "    eval_dataset=tokenized_datasets[\"test\"],\n",
        "    tokenizer=tokenizer,\n",
        "    data_collator=data_collator,\n",
        "    # compute_metrics=compute_metrics,\n",
        ")\n",
        "\n",
        "trainer.train()"
      ]
    },
    {
      "cell_type": "code",
      "execution_count": null,
      "metadata": {
        "id": "2vNIQe2WRwVR"
      },
      "outputs": [],
      "source": [
        "# %load_ext tensorboard\n",
        "# %tensorboard --logdir experiments/runs"
      ]
    },
    {
      "cell_type": "markdown",
      "metadata": {
        "id": "1qiOliWyqcFW"
      },
      "source": [
        "## 모델 업로드"
      ]
    },
    {
      "cell_type": "code",
      "execution_count": null,
      "metadata": {
        "colab": {
          "base_uri": "https://localhost:8080/",
          "height": 113,
          "referenced_widgets": [
            "2d03740d933648edb02620e5bc3baede",
            "c1c19d2f7970437bb8cbe5de58cfa9ea",
            "82cc67fa590d4abfa52a51787be2b92e",
            "73516327294c4497ac20e111ef4b9cd1",
            "c23ce8a73ab9462f8287879778a20ab9",
            "18fcb48e242e473ba9467af223989819",
            "09afac892c7c4d18b227aa36eb39c544",
            "bf785b99bd1b4087b180f13a2a0a808d",
            "856be4f573c347a89a5e5c7bd773d9b8",
            "15fc396c7265426aa4aa099f3ce42607",
            "27c6831716ca4bea992456338ce903a6",
            "82cc9877b7d24ac09c5f6b1c6dcda737",
            "b10f5717b9504cbabbe01b802b0777ed",
            "b452c79b47264166aedd3b1536cf5026",
            "d692904d5c3c4b75bb58e3fc0fac4455",
            "fb3c2c5c0d3a4b7fb7cbe06429d6e3ea",
            "488de34b4fe44819bb28344af518812f",
            "67190ca67f0140e0b140188a916366c0",
            "e387c50ca7b4410983bd2856c713ca37",
            "54513d5c44634b778fd397bdbac0a019",
            "c276d7c3563d4434ad7a533bce4158fe",
            "8fc915aa8c8a401b8151f726372c0fe4",
            "a2429b742ce54827a2453a43b5ad9bff",
            "5f89630d13e24a1a83936515292a07bd",
            "6e2173f5d6834d7e9b037238ce438130",
            "22ead4e4e99a47e0b82366bee8537121",
            "550acd6f08994a87a5e84b69a2174e76",
            "5111ba873aa6469c859f38ddcd33b5c3",
            "fb2ac66d65544378b4469ea690c0a37b"
          ]
        },
        "id": "098mwNtEzGBe",
        "outputId": "e74afb10-1450-45e9-d7fb-6edc2e9b7b89"
      },
      "outputs": [
        {
          "output_type": "display_data",
          "data": {
            "text/plain": [
              "VBox(children=(HTML(value='<center> <img\\nsrc=https://huggingface.co/front/assets/huggingface_logo-noborder.sv…"
            ],
            "application/vnd.jupyter.widget-view+json": {
              "version_major": 2,
              "version_minor": 0,
              "model_id": "2d03740d933648edb02620e5bc3baede"
            }
          },
          "metadata": {}
        }
      ],
      "source": [
        "from huggingface_hub import notebook_login\n",
        "\n",
        "notebook_login()"
      ]
    },
    {
      "cell_type": "code",
      "execution_count": null,
      "metadata": {
        "colab": {
          "base_uri": "https://localhost:8080/",
          "height": 67,
          "referenced_widgets": [
            "663cc4306f864b0cb40b02ee62c129dd",
            "f001fb52f5f64cfc939eeced6e590928",
            "c10e8d0764364819976e8c89f9e3cc4c",
            "1d64be8a9c4d425bb46f252fa9254433",
            "3176292b86094a9b845657c7f4209805",
            "79c2fd5e62f342b5b6d9632ea1c4c2de",
            "8ed1523bf99c49d588f7044526ad1f90",
            "a3375e993caf494b954cc6622fb69687",
            "e9b5b7a1d46247849c634085bdb57ff7",
            "b02a0eef47c145379fb8c9d942f4e179",
            "07344bdce1e34778ab993001df16be37"
          ]
        },
        "id": "nsmIXcXBzNCk",
        "outputId": "56fb784f-09bb-4f79-bfdb-92d741df7fab"
      },
      "outputs": [
        {
          "output_type": "display_data",
          "data": {
            "text/plain": [
              "adapter_model.safetensors:   0%|          | 0.00/3.19M [00:00<?, ?B/s]"
            ],
            "application/vnd.jupyter.widget-view+json": {
              "version_major": 2,
              "version_minor": 0,
              "model_id": "663cc4306f864b0cb40b02ee62c129dd"
            }
          },
          "metadata": {}
        },
        {
          "output_type": "execute_result",
          "data": {
            "text/plain": [
              "CommitInfo(commit_url='https://huggingface.co/dongseon/cllama_sentiment/commit/c7015a916ea200b95b36e24a9d507aae22ddc9db', commit_message='Upload model', commit_description='', oid='c7015a916ea200b95b36e24a9d507aae22ddc9db', pr_url='https://huggingface.co/dongseon/cllama_sentiment/discussions/3', pr_revision='refs/pr/3', pr_num=3)"
            ]
          },
          "metadata": {},
          "execution_count": 60
        }
      ],
      "source": [
        "model.push_to_hub(\"dongseon/cllama_sentiment\", create_pr=1,use_auth_token=True)"
      ]
    },
    {
      "cell_type": "markdown",
      "metadata": {
        "id": "lLIr-ynuTilx"
      },
      "source": [
        "## 테스트"
      ]
    },
    {
      "cell_type": "markdown",
      "metadata": {
        "id": "AZV1u3mdWrmJ"
      },
      "source": [
        "**로컬 모델 사용하기**"
      ]
    },
    {
      "cell_type": "code",
      "execution_count": null,
      "metadata": {
        "id": "Dbm6s7GfTISi"
      },
      "outputs": [],
      "source": [
        "key = \"소재\"\n",
        "# txt = \"단추가 짱짱해요 \"\n",
        "# txt = \"화면에서는 하늘색인데 진한 파랑색입니다.. 근데 세탁 후 보풀이 생겼어요\"\n",
        "# txt = \"배송이 너무너무 늦어요, 그래도 가격은 저렴하게 샀어요\"\n",
        "# txt = \"생각보다 더 따뜻하고 프린팅도 귀엽고 색감도 이쁘고 잘산것 같아요\"\n",
        "txt = \"흰옷이라서 속이 좀 비치지만 몸에 딱 맞아요\"\n",
        "# txt = \"배송이 최악이애요\"\n",
        "\n",
        "inputs = tokenizer(\n",
        "\n",
        "        f'### review: {txt} ### keyword: {key} '\n",
        "\n",
        "    , return_tensors=\"pt\")\n",
        "# del inputs['attention_mask']\n",
        "del inputs['token_type_ids']"
      ]
    },
    {
      "cell_type": "code",
      "execution_count": null,
      "metadata": {
        "id": "QcDzrMAvvkXk"
      },
      "outputs": [],
      "source": [
        "# from transformers import AutoModelForSequenceClassification\n",
        "\n",
        "# model = AutoModelForSequenceClassification.from_pretrained(\"dongseon/kobert\")\n",
        "with torch.no_grad():\n",
        "     # 모델이 있는 디바이스로 입력 데이터 이동\n",
        "    inputs = {key: value.to(model.device) for key, value in inputs.items()}\n",
        "    # 모델 호출\n",
        "    logits = model(**inputs).logits"
      ]
    },
    {
      "cell_type": "code",
      "execution_count": null,
      "metadata": {
        "colab": {
          "base_uri": "https://localhost:8080/"
        },
        "id": "rCL8--oxuWM-",
        "outputId": "4841467c-5e00-4447-f681-5aa18243ccb5"
      },
      "outputs": [
        {
          "output_type": "stream",
          "name": "stdout",
          "text": [
            "중립\n"
          ]
        }
      ],
      "source": [
        "predicted_class_id = logits.argmax().item()\n",
        "keyword = model.config.id2label[predicted_class_id]\n",
        "print(keyword)"
      ]
    },
    {
      "cell_type": "code",
      "execution_count": null,
      "metadata": {
        "colab": {
          "base_uri": "https://localhost:8080/"
        },
        "id": "zbSW6y7vJ2Mo",
        "outputId": "b5d5908f-dbfd-4921-e21f-a78721744038"
      },
      "outputs": [
        {
          "output_type": "stream",
          "name": "stdout",
          "text": [
            "3\n",
            "tensor([[-1.6191,  0.8330, -1.1797,  1.8555, -0.5596, -0.9575, -1.5049, -0.7319,\n",
            "          1.7100, -0.0459, -0.0417, -2.3418, -0.3887, -1.2627]],\n",
            "       device='cuda:0')\n"
          ]
        }
      ],
      "source": [
        "# 텐서\n",
        "print(predicted_class_id)\n",
        "print(logits)"
      ]
    },
    {
      "cell_type": "code",
      "execution_count": null,
      "metadata": {
        "colab": {
          "base_uri": "https://localhost:8080/"
        },
        "id": "5MtdI42TKRIR",
        "outputId": "d2bdc343-368e-491b-c381-66940b579d18"
      },
      "outputs": [
        {
          "output_type": "stream",
          "name": "stdout",
          "text": [
            "Class: 기능성, Probability: 0.1188\n",
            "Class: 디자인, Probability: 0.3303\n",
            "Class: 색상, Probability: 0.2856\n"
          ]
        }
      ],
      "source": [
        "import torch\n",
        "import torch.nn.functional as F\n",
        "\n",
        "# Softmax 함수를 사용하여 확률 분포 계산\n",
        "probabilities = F.softmax(logits, dim=1)\n",
        "\n",
        "# 각 클래스(레이블)에 대한 확률 출력\n",
        "for class_index, probability in enumerate(probabilities[0]):\n",
        "  if probability.item() > 0.1 :   # 노출조건\n",
        "    label = model.config.id2label[class_index]\n",
        "    print(f\"Class: {label}, Probability: {probability.item():.4f}\")\n"
      ]
    },
    {
      "cell_type": "code",
      "execution_count": null,
      "metadata": {
        "colab": {
          "base_uri": "https://localhost:8080/"
        },
        "id": "MG3pbbPxMlBu",
        "outputId": "a3be4f9f-8fbf-47c4-9c9e-a3dd5cd236e8"
      },
      "outputs": [
        {
          "output_type": "stream",
          "name": "stdout",
          "text": [
            "가장 영향을 많이 주는 토큰: '귀엽고', 기여도: 0.1769\n"
          ]
        }
      ],
      "source": [
        "import numpy as np\n",
        "lbl = \"디자인\"\n",
        "\n",
        "# 모델의 출력에서 '품질' 클래스의 확률\n",
        "quality_probability = probabilities[0][model.config.label2id[lbl]]\n",
        "\n",
        "# 각 입력 토큰에 대한 확률 기여도 계산\n",
        "token_contributions = []\n",
        "for token_index in range(len(txt.split())):\n",
        "    # 모델에 입력 토큰 단위로 대체하면서 확률 계산\n",
        "    replaced_txt = txt.split()\n",
        "    replaced_txt[token_index] = \"[MASK]\"\n",
        "    replaced_txt = \" \".join(replaced_txt)\n",
        "\n",
        "    # 대체된 텍스트를 토큰화하고 입력 데이터 준비\n",
        "    inputs = tokenizer(replaced_txt, return_tensors=\"pt\")\n",
        "    inputs = {key: value.to(model.device) for key, value in inputs.items()}\n",
        "    del inputs['token_type_ids']\n",
        "\n",
        "    # 모델 호출하여 확률 계산\n",
        "    logits = model(**inputs).logits\n",
        "    probabilities = F.softmax(logits, dim=1)\n",
        "    token_quality_probability = probabilities[0][model.config.label2id[lbl]]\n",
        "\n",
        "    # 현재 토큰의 확률 기여도를 계산하고 리스트에 추가\n",
        "    token_contribution = quality_probability - token_quality_probability\n",
        "    token_contributions.append(token_contribution.item())\n",
        "\n",
        "# 가장 큰 기여도를 가진 토큰과 그 값 찾기\n",
        "max_contribution_index = np.argmax(token_contributions)\n",
        "max_contribution_value = token_contributions[max_contribution_index]\n",
        "max_contributing_token = txt.split()[max_contribution_index]\n",
        "\n",
        "# 결과 출력\n",
        "print(f\"가장 영향을 많이 주는 토큰: '{max_contributing_token}', 기여도: {max_contribution_value:.4f}\")\n"
      ]
    },
    {
      "cell_type": "code",
      "execution_count": null,
      "metadata": {
        "colab": {
          "base_uri": "https://localhost:8080/"
        },
        "id": "x9KTRvg6PEAL",
        "outputId": "0e01723c-3280-40f5-bcf5-567727251b28"
      },
      "outputs": [
        {
          "output_type": "stream",
          "name": "stdout",
          "text": [
            "['생각보다', '더', '따뜻하고', '프린팅도', '귀엽고', '색감도', '이쁘고', '잘산것', '같아요']\n",
            "[0.00721663236618042, 0.011281907558441162, -0.22268304228782654, 0.05458226799964905, 0.17685739696025848, -0.2834058105945587, 0.049906641244888306, 0.0046234130859375, 0.0]\n"
          ]
        }
      ],
      "source": [
        "print(txt.split())\n",
        "print(token_contributions)"
      ]
    },
    {
      "cell_type": "code",
      "execution_count": null,
      "metadata": {
        "colab": {
          "base_uri": "https://localhost:8080/"
        },
        "id": "xOhOOoN8POfq",
        "outputId": "22eebcc4-99cb-4eaa-f356-a334ebfd4b79"
      },
      "outputs": [
        {
          "output_type": "stream",
          "name": "stdout",
          "text": [
            "3\n",
            "4\n",
            "5\n",
            "9\n"
          ]
        }
      ],
      "source": [
        "\n",
        "def find_second_largest_index(nums):\n",
        "    if len(nums) < 2:\n",
        "        return None  # 리스트에 두 개 이상의 원소가 없는 경우 None 반환\n",
        "\n",
        "    largest_index = 0\n",
        "    second_largest_index = -1\n",
        "\n",
        "    for i in range(1, len(nums)):\n",
        "        if nums[i] > nums[largest_index]:\n",
        "            second_largest_index = largest_index\n",
        "            largest_index = i\n",
        "        elif nums[i] != nums[largest_index]:\n",
        "            if second_largest_index == -1 or nums[i] > nums[second_largest_index]:\n",
        "                second_largest_index = i\n",
        "\n",
        "    return second_largest_index\n",
        "\n",
        "# 두 번째로 큰 숫자의 인덱스 찾기\n",
        "second_largest_index = find_second_largest_index(token_contributions)\n",
        "second_largest_index\n",
        "\n",
        "\n",
        "max_contribution_index\n",
        "first_negative_index = None\n",
        "for i, value in enumerate(token_contributions):\n",
        "  if i > max_contribution_index and value >= 0 :\n",
        "    first_negative_index = max_contribution_index\n",
        "  else :\n",
        "    if i > max_contribution_index and value < 0:\n",
        "        first_negative_index = i\n",
        "        break  # 처음으로 마이너스가 되는 곳을 찾으면 반복을 중단합니다.\n",
        "first_negative_index\n",
        "index_length = len(txt.split())\n",
        "\n",
        "print(second_largest_index)\n",
        "print(max_contribution_index)\n",
        "print(first_negative_index)\n",
        "print(index_length)"
      ]
    },
    {
      "cell_type": "code",
      "source": [
        "condition1 = max_contribution_index-second_largest_index"
      ],
      "metadata": {
        "id": "WejoVkoJEbx0"
      },
      "execution_count": null,
      "outputs": []
    },
    {
      "cell_type": "code",
      "execution_count": null,
      "metadata": {
        "colab": {
          "base_uri": "https://localhost:8080/"
        },
        "id": "SH9cIhp1Q5VB",
        "outputId": "72bf9365-45e8-4e78-a183-c765b869d493"
      },
      "outputs": [
        {
          "output_type": "stream",
          "name": "stdout",
          "text": [
            "프린팅도\n",
            "귀엽고\n",
            "색감도\n"
          ]
        }
      ],
      "source": [
        "if second_largest_index < max_contribution_index and token_contributions[second_largest_index] >0 and condition1 < 2:\n",
        "  start = second_largest_index\n",
        "else : start = max_contribution_index\n",
        "\n",
        "\n",
        "if first_negative_index > max_contribution_index :\n",
        "  if first_negative_index-max_contribution_index == 1:\n",
        "   end = first_negative_index+1\n",
        "  else:\n",
        "   end = first_negative_index\n",
        "else : end = index_length\n",
        "\n",
        "\n",
        "\n",
        "for i in range(start,end):\n",
        "  print(txt.split()[i])"
      ]
    },
    {
      "cell_type": "code",
      "source": [],
      "metadata": {
        "id": "vr4vg5OwdPYQ"
      },
      "execution_count": null,
      "outputs": []
    }
  ],
  "metadata": {
    "accelerator": "GPU",
    "colab": {
      "collapsed_sections": [
        "4ydrwJDlo0GV",
        "6WuAlTCs2b-Y",
        "HzSlXm1_T3V5",
        "RENFg9FSptVB",
        "co5sGLKhqHO5"
      ],
      "machine_shape": "hm",
      "provenance": [],
      "gpuType": "A100"
    },
    "kernelspec": {
      "display_name": "Python 3",
      "name": "python3"
    },
    "language_info": {
      "name": "python"
    },
    "widgets": {
      "application/vnd.jupyter.widget-state+json": {
        "b15fed16f0f842c7820d338087873bbc": {
          "model_module": "@jupyter-widgets/controls",
          "model_name": "HBoxModel",
          "model_module_version": "1.5.0",
          "state": {
            "_dom_classes": [],
            "_model_module": "@jupyter-widgets/controls",
            "_model_module_version": "1.5.0",
            "_model_name": "HBoxModel",
            "_view_count": null,
            "_view_module": "@jupyter-widgets/controls",
            "_view_module_version": "1.5.0",
            "_view_name": "HBoxView",
            "box_style": "",
            "children": [
              "IPY_MODEL_f6855fae1df34673bb5aa44113072959",
              "IPY_MODEL_f65de8748f04446fbe820fb70302824e",
              "IPY_MODEL_d32ec1db56a0465ca24d6909599b2983"
            ],
            "layout": "IPY_MODEL_24ccf1ca1f604629b3795dda1a1b0379"
          }
        },
        "f6855fae1df34673bb5aa44113072959": {
          "model_module": "@jupyter-widgets/controls",
          "model_name": "HTMLModel",
          "model_module_version": "1.5.0",
          "state": {
            "_dom_classes": [],
            "_model_module": "@jupyter-widgets/controls",
            "_model_module_version": "1.5.0",
            "_model_name": "HTMLModel",
            "_view_count": null,
            "_view_module": "@jupyter-widgets/controls",
            "_view_module_version": "1.5.0",
            "_view_name": "HTMLView",
            "description": "",
            "description_tooltip": null,
            "layout": "IPY_MODEL_64bc25820808467e9c922b06e09d872f",
            "placeholder": "​",
            "style": "IPY_MODEL_3d48ccfa29104072af211ca31ac99a57",
            "value": "Map: 100%"
          }
        },
        "f65de8748f04446fbe820fb70302824e": {
          "model_module": "@jupyter-widgets/controls",
          "model_name": "FloatProgressModel",
          "model_module_version": "1.5.0",
          "state": {
            "_dom_classes": [],
            "_model_module": "@jupyter-widgets/controls",
            "_model_module_version": "1.5.0",
            "_model_name": "FloatProgressModel",
            "_view_count": null,
            "_view_module": "@jupyter-widgets/controls",
            "_view_module_version": "1.5.0",
            "_view_name": "ProgressView",
            "bar_style": "success",
            "description": "",
            "description_tooltip": null,
            "layout": "IPY_MODEL_7cd51eac8e1542419671cc2b16ac192e",
            "max": 3332,
            "min": 0,
            "orientation": "horizontal",
            "style": "IPY_MODEL_b2c3964654e2424aac7b36559f86fa31",
            "value": 3332
          }
        },
        "d32ec1db56a0465ca24d6909599b2983": {
          "model_module": "@jupyter-widgets/controls",
          "model_name": "HTMLModel",
          "model_module_version": "1.5.0",
          "state": {
            "_dom_classes": [],
            "_model_module": "@jupyter-widgets/controls",
            "_model_module_version": "1.5.0",
            "_model_name": "HTMLModel",
            "_view_count": null,
            "_view_module": "@jupyter-widgets/controls",
            "_view_module_version": "1.5.0",
            "_view_name": "HTMLView",
            "description": "",
            "description_tooltip": null,
            "layout": "IPY_MODEL_d996e62db00e495b9d46b4a57a1370a3",
            "placeholder": "​",
            "style": "IPY_MODEL_ecaff6a88a354bf7a05b9368708ed4f2",
            "value": " 3332/3332 [00:00&lt;00:00, 14058.88 examples/s]"
          }
        },
        "24ccf1ca1f604629b3795dda1a1b0379": {
          "model_module": "@jupyter-widgets/base",
          "model_name": "LayoutModel",
          "model_module_version": "1.2.0",
          "state": {
            "_model_module": "@jupyter-widgets/base",
            "_model_module_version": "1.2.0",
            "_model_name": "LayoutModel",
            "_view_count": null,
            "_view_module": "@jupyter-widgets/base",
            "_view_module_version": "1.2.0",
            "_view_name": "LayoutView",
            "align_content": null,
            "align_items": null,
            "align_self": null,
            "border": null,
            "bottom": null,
            "display": null,
            "flex": null,
            "flex_flow": null,
            "grid_area": null,
            "grid_auto_columns": null,
            "grid_auto_flow": null,
            "grid_auto_rows": null,
            "grid_column": null,
            "grid_gap": null,
            "grid_row": null,
            "grid_template_areas": null,
            "grid_template_columns": null,
            "grid_template_rows": null,
            "height": null,
            "justify_content": null,
            "justify_items": null,
            "left": null,
            "margin": null,
            "max_height": null,
            "max_width": null,
            "min_height": null,
            "min_width": null,
            "object_fit": null,
            "object_position": null,
            "order": null,
            "overflow": null,
            "overflow_x": null,
            "overflow_y": null,
            "padding": null,
            "right": null,
            "top": null,
            "visibility": null,
            "width": null
          }
        },
        "64bc25820808467e9c922b06e09d872f": {
          "model_module": "@jupyter-widgets/base",
          "model_name": "LayoutModel",
          "model_module_version": "1.2.0",
          "state": {
            "_model_module": "@jupyter-widgets/base",
            "_model_module_version": "1.2.0",
            "_model_name": "LayoutModel",
            "_view_count": null,
            "_view_module": "@jupyter-widgets/base",
            "_view_module_version": "1.2.0",
            "_view_name": "LayoutView",
            "align_content": null,
            "align_items": null,
            "align_self": null,
            "border": null,
            "bottom": null,
            "display": null,
            "flex": null,
            "flex_flow": null,
            "grid_area": null,
            "grid_auto_columns": null,
            "grid_auto_flow": null,
            "grid_auto_rows": null,
            "grid_column": null,
            "grid_gap": null,
            "grid_row": null,
            "grid_template_areas": null,
            "grid_template_columns": null,
            "grid_template_rows": null,
            "height": null,
            "justify_content": null,
            "justify_items": null,
            "left": null,
            "margin": null,
            "max_height": null,
            "max_width": null,
            "min_height": null,
            "min_width": null,
            "object_fit": null,
            "object_position": null,
            "order": null,
            "overflow": null,
            "overflow_x": null,
            "overflow_y": null,
            "padding": null,
            "right": null,
            "top": null,
            "visibility": null,
            "width": null
          }
        },
        "3d48ccfa29104072af211ca31ac99a57": {
          "model_module": "@jupyter-widgets/controls",
          "model_name": "DescriptionStyleModel",
          "model_module_version": "1.5.0",
          "state": {
            "_model_module": "@jupyter-widgets/controls",
            "_model_module_version": "1.5.0",
            "_model_name": "DescriptionStyleModel",
            "_view_count": null,
            "_view_module": "@jupyter-widgets/base",
            "_view_module_version": "1.2.0",
            "_view_name": "StyleView",
            "description_width": ""
          }
        },
        "7cd51eac8e1542419671cc2b16ac192e": {
          "model_module": "@jupyter-widgets/base",
          "model_name": "LayoutModel",
          "model_module_version": "1.2.0",
          "state": {
            "_model_module": "@jupyter-widgets/base",
            "_model_module_version": "1.2.0",
            "_model_name": "LayoutModel",
            "_view_count": null,
            "_view_module": "@jupyter-widgets/base",
            "_view_module_version": "1.2.0",
            "_view_name": "LayoutView",
            "align_content": null,
            "align_items": null,
            "align_self": null,
            "border": null,
            "bottom": null,
            "display": null,
            "flex": null,
            "flex_flow": null,
            "grid_area": null,
            "grid_auto_columns": null,
            "grid_auto_flow": null,
            "grid_auto_rows": null,
            "grid_column": null,
            "grid_gap": null,
            "grid_row": null,
            "grid_template_areas": null,
            "grid_template_columns": null,
            "grid_template_rows": null,
            "height": null,
            "justify_content": null,
            "justify_items": null,
            "left": null,
            "margin": null,
            "max_height": null,
            "max_width": null,
            "min_height": null,
            "min_width": null,
            "object_fit": null,
            "object_position": null,
            "order": null,
            "overflow": null,
            "overflow_x": null,
            "overflow_y": null,
            "padding": null,
            "right": null,
            "top": null,
            "visibility": null,
            "width": null
          }
        },
        "b2c3964654e2424aac7b36559f86fa31": {
          "model_module": "@jupyter-widgets/controls",
          "model_name": "ProgressStyleModel",
          "model_module_version": "1.5.0",
          "state": {
            "_model_module": "@jupyter-widgets/controls",
            "_model_module_version": "1.5.0",
            "_model_name": "ProgressStyleModel",
            "_view_count": null,
            "_view_module": "@jupyter-widgets/base",
            "_view_module_version": "1.2.0",
            "_view_name": "StyleView",
            "bar_color": null,
            "description_width": ""
          }
        },
        "d996e62db00e495b9d46b4a57a1370a3": {
          "model_module": "@jupyter-widgets/base",
          "model_name": "LayoutModel",
          "model_module_version": "1.2.0",
          "state": {
            "_model_module": "@jupyter-widgets/base",
            "_model_module_version": "1.2.0",
            "_model_name": "LayoutModel",
            "_view_count": null,
            "_view_module": "@jupyter-widgets/base",
            "_view_module_version": "1.2.0",
            "_view_name": "LayoutView",
            "align_content": null,
            "align_items": null,
            "align_self": null,
            "border": null,
            "bottom": null,
            "display": null,
            "flex": null,
            "flex_flow": null,
            "grid_area": null,
            "grid_auto_columns": null,
            "grid_auto_flow": null,
            "grid_auto_rows": null,
            "grid_column": null,
            "grid_gap": null,
            "grid_row": null,
            "grid_template_areas": null,
            "grid_template_columns": null,
            "grid_template_rows": null,
            "height": null,
            "justify_content": null,
            "justify_items": null,
            "left": null,
            "margin": null,
            "max_height": null,
            "max_width": null,
            "min_height": null,
            "min_width": null,
            "object_fit": null,
            "object_position": null,
            "order": null,
            "overflow": null,
            "overflow_x": null,
            "overflow_y": null,
            "padding": null,
            "right": null,
            "top": null,
            "visibility": null,
            "width": null
          }
        },
        "ecaff6a88a354bf7a05b9368708ed4f2": {
          "model_module": "@jupyter-widgets/controls",
          "model_name": "DescriptionStyleModel",
          "model_module_version": "1.5.0",
          "state": {
            "_model_module": "@jupyter-widgets/controls",
            "_model_module_version": "1.5.0",
            "_model_name": "DescriptionStyleModel",
            "_view_count": null,
            "_view_module": "@jupyter-widgets/base",
            "_view_module_version": "1.2.0",
            "_view_name": "StyleView",
            "description_width": ""
          }
        },
        "a4402b4a0aeb4530868bc2e058ce3416": {
          "model_module": "@jupyter-widgets/controls",
          "model_name": "HBoxModel",
          "model_module_version": "1.5.0",
          "state": {
            "_dom_classes": [],
            "_model_module": "@jupyter-widgets/controls",
            "_model_module_version": "1.5.0",
            "_model_name": "HBoxModel",
            "_view_count": null,
            "_view_module": "@jupyter-widgets/controls",
            "_view_module_version": "1.5.0",
            "_view_name": "HBoxView",
            "box_style": "",
            "children": [
              "IPY_MODEL_e064377be5e34f67accbac21e8acda64",
              "IPY_MODEL_76b190ba2af74a3b9a5ebd9c2e56ec16",
              "IPY_MODEL_562970dcad894d9e98846758e82babce"
            ],
            "layout": "IPY_MODEL_8eabd02f40c94460bb16a9ad287cf9a4"
          }
        },
        "e064377be5e34f67accbac21e8acda64": {
          "model_module": "@jupyter-widgets/controls",
          "model_name": "HTMLModel",
          "model_module_version": "1.5.0",
          "state": {
            "_dom_classes": [],
            "_model_module": "@jupyter-widgets/controls",
            "_model_module_version": "1.5.0",
            "_model_name": "HTMLModel",
            "_view_count": null,
            "_view_module": "@jupyter-widgets/controls",
            "_view_module_version": "1.5.0",
            "_view_name": "HTMLView",
            "description": "",
            "description_tooltip": null,
            "layout": "IPY_MODEL_262d429b61a94f648bbc970c13d0fab5",
            "placeholder": "​",
            "style": "IPY_MODEL_2cbba3280a244e6b867c930b0d928f76",
            "value": "Map: 100%"
          }
        },
        "76b190ba2af74a3b9a5ebd9c2e56ec16": {
          "model_module": "@jupyter-widgets/controls",
          "model_name": "FloatProgressModel",
          "model_module_version": "1.5.0",
          "state": {
            "_dom_classes": [],
            "_model_module": "@jupyter-widgets/controls",
            "_model_module_version": "1.5.0",
            "_model_name": "FloatProgressModel",
            "_view_count": null,
            "_view_module": "@jupyter-widgets/controls",
            "_view_module_version": "1.5.0",
            "_view_name": "ProgressView",
            "bar_style": "success",
            "description": "",
            "description_tooltip": null,
            "layout": "IPY_MODEL_0e9ead8f59a047b29f0c865a1779ed58",
            "max": 1922,
            "min": 0,
            "orientation": "horizontal",
            "style": "IPY_MODEL_1a86e5e217f148119c1bb3fefd3ab151",
            "value": 1922
          }
        },
        "562970dcad894d9e98846758e82babce": {
          "model_module": "@jupyter-widgets/controls",
          "model_name": "HTMLModel",
          "model_module_version": "1.5.0",
          "state": {
            "_dom_classes": [],
            "_model_module": "@jupyter-widgets/controls",
            "_model_module_version": "1.5.0",
            "_model_name": "HTMLModel",
            "_view_count": null,
            "_view_module": "@jupyter-widgets/controls",
            "_view_module_version": "1.5.0",
            "_view_name": "HTMLView",
            "description": "",
            "description_tooltip": null,
            "layout": "IPY_MODEL_50e054924801432cba4994ef1c27e829",
            "placeholder": "​",
            "style": "IPY_MODEL_f6dc6580bf9d4a6a98e6ddd51863be5c",
            "value": " 1922/1922 [00:00&lt;00:00, 15672.57 examples/s]"
          }
        },
        "8eabd02f40c94460bb16a9ad287cf9a4": {
          "model_module": "@jupyter-widgets/base",
          "model_name": "LayoutModel",
          "model_module_version": "1.2.0",
          "state": {
            "_model_module": "@jupyter-widgets/base",
            "_model_module_version": "1.2.0",
            "_model_name": "LayoutModel",
            "_view_count": null,
            "_view_module": "@jupyter-widgets/base",
            "_view_module_version": "1.2.0",
            "_view_name": "LayoutView",
            "align_content": null,
            "align_items": null,
            "align_self": null,
            "border": null,
            "bottom": null,
            "display": null,
            "flex": null,
            "flex_flow": null,
            "grid_area": null,
            "grid_auto_columns": null,
            "grid_auto_flow": null,
            "grid_auto_rows": null,
            "grid_column": null,
            "grid_gap": null,
            "grid_row": null,
            "grid_template_areas": null,
            "grid_template_columns": null,
            "grid_template_rows": null,
            "height": null,
            "justify_content": null,
            "justify_items": null,
            "left": null,
            "margin": null,
            "max_height": null,
            "max_width": null,
            "min_height": null,
            "min_width": null,
            "object_fit": null,
            "object_position": null,
            "order": null,
            "overflow": null,
            "overflow_x": null,
            "overflow_y": null,
            "padding": null,
            "right": null,
            "top": null,
            "visibility": null,
            "width": null
          }
        },
        "262d429b61a94f648bbc970c13d0fab5": {
          "model_module": "@jupyter-widgets/base",
          "model_name": "LayoutModel",
          "model_module_version": "1.2.0",
          "state": {
            "_model_module": "@jupyter-widgets/base",
            "_model_module_version": "1.2.0",
            "_model_name": "LayoutModel",
            "_view_count": null,
            "_view_module": "@jupyter-widgets/base",
            "_view_module_version": "1.2.0",
            "_view_name": "LayoutView",
            "align_content": null,
            "align_items": null,
            "align_self": null,
            "border": null,
            "bottom": null,
            "display": null,
            "flex": null,
            "flex_flow": null,
            "grid_area": null,
            "grid_auto_columns": null,
            "grid_auto_flow": null,
            "grid_auto_rows": null,
            "grid_column": null,
            "grid_gap": null,
            "grid_row": null,
            "grid_template_areas": null,
            "grid_template_columns": null,
            "grid_template_rows": null,
            "height": null,
            "justify_content": null,
            "justify_items": null,
            "left": null,
            "margin": null,
            "max_height": null,
            "max_width": null,
            "min_height": null,
            "min_width": null,
            "object_fit": null,
            "object_position": null,
            "order": null,
            "overflow": null,
            "overflow_x": null,
            "overflow_y": null,
            "padding": null,
            "right": null,
            "top": null,
            "visibility": null,
            "width": null
          }
        },
        "2cbba3280a244e6b867c930b0d928f76": {
          "model_module": "@jupyter-widgets/controls",
          "model_name": "DescriptionStyleModel",
          "model_module_version": "1.5.0",
          "state": {
            "_model_module": "@jupyter-widgets/controls",
            "_model_module_version": "1.5.0",
            "_model_name": "DescriptionStyleModel",
            "_view_count": null,
            "_view_module": "@jupyter-widgets/base",
            "_view_module_version": "1.2.0",
            "_view_name": "StyleView",
            "description_width": ""
          }
        },
        "0e9ead8f59a047b29f0c865a1779ed58": {
          "model_module": "@jupyter-widgets/base",
          "model_name": "LayoutModel",
          "model_module_version": "1.2.0",
          "state": {
            "_model_module": "@jupyter-widgets/base",
            "_model_module_version": "1.2.0",
            "_model_name": "LayoutModel",
            "_view_count": null,
            "_view_module": "@jupyter-widgets/base",
            "_view_module_version": "1.2.0",
            "_view_name": "LayoutView",
            "align_content": null,
            "align_items": null,
            "align_self": null,
            "border": null,
            "bottom": null,
            "display": null,
            "flex": null,
            "flex_flow": null,
            "grid_area": null,
            "grid_auto_columns": null,
            "grid_auto_flow": null,
            "grid_auto_rows": null,
            "grid_column": null,
            "grid_gap": null,
            "grid_row": null,
            "grid_template_areas": null,
            "grid_template_columns": null,
            "grid_template_rows": null,
            "height": null,
            "justify_content": null,
            "justify_items": null,
            "left": null,
            "margin": null,
            "max_height": null,
            "max_width": null,
            "min_height": null,
            "min_width": null,
            "object_fit": null,
            "object_position": null,
            "order": null,
            "overflow": null,
            "overflow_x": null,
            "overflow_y": null,
            "padding": null,
            "right": null,
            "top": null,
            "visibility": null,
            "width": null
          }
        },
        "1a86e5e217f148119c1bb3fefd3ab151": {
          "model_module": "@jupyter-widgets/controls",
          "model_name": "ProgressStyleModel",
          "model_module_version": "1.5.0",
          "state": {
            "_model_module": "@jupyter-widgets/controls",
            "_model_module_version": "1.5.0",
            "_model_name": "ProgressStyleModel",
            "_view_count": null,
            "_view_module": "@jupyter-widgets/base",
            "_view_module_version": "1.2.0",
            "_view_name": "StyleView",
            "bar_color": null,
            "description_width": ""
          }
        },
        "50e054924801432cba4994ef1c27e829": {
          "model_module": "@jupyter-widgets/base",
          "model_name": "LayoutModel",
          "model_module_version": "1.2.0",
          "state": {
            "_model_module": "@jupyter-widgets/base",
            "_model_module_version": "1.2.0",
            "_model_name": "LayoutModel",
            "_view_count": null,
            "_view_module": "@jupyter-widgets/base",
            "_view_module_version": "1.2.0",
            "_view_name": "LayoutView",
            "align_content": null,
            "align_items": null,
            "align_self": null,
            "border": null,
            "bottom": null,
            "display": null,
            "flex": null,
            "flex_flow": null,
            "grid_area": null,
            "grid_auto_columns": null,
            "grid_auto_flow": null,
            "grid_auto_rows": null,
            "grid_column": null,
            "grid_gap": null,
            "grid_row": null,
            "grid_template_areas": null,
            "grid_template_columns": null,
            "grid_template_rows": null,
            "height": null,
            "justify_content": null,
            "justify_items": null,
            "left": null,
            "margin": null,
            "max_height": null,
            "max_width": null,
            "min_height": null,
            "min_width": null,
            "object_fit": null,
            "object_position": null,
            "order": null,
            "overflow": null,
            "overflow_x": null,
            "overflow_y": null,
            "padding": null,
            "right": null,
            "top": null,
            "visibility": null,
            "width": null
          }
        },
        "f6dc6580bf9d4a6a98e6ddd51863be5c": {
          "model_module": "@jupyter-widgets/controls",
          "model_name": "DescriptionStyleModel",
          "model_module_version": "1.5.0",
          "state": {
            "_model_module": "@jupyter-widgets/controls",
            "_model_module_version": "1.5.0",
            "_model_name": "DescriptionStyleModel",
            "_view_count": null,
            "_view_module": "@jupyter-widgets/base",
            "_view_module_version": "1.2.0",
            "_view_name": "StyleView",
            "description_width": ""
          }
        },
        "9adc1714990645858fadcda57371cadc": {
          "model_module": "@jupyter-widgets/controls",
          "model_name": "HBoxModel",
          "model_module_version": "1.5.0",
          "state": {
            "_dom_classes": [],
            "_model_module": "@jupyter-widgets/controls",
            "_model_module_version": "1.5.0",
            "_model_name": "HBoxModel",
            "_view_count": null,
            "_view_module": "@jupyter-widgets/controls",
            "_view_module_version": "1.5.0",
            "_view_name": "HBoxView",
            "box_style": "",
            "children": [
              "IPY_MODEL_03527a0ba927487eb14b5d6a78e58bf4",
              "IPY_MODEL_2de1fb2f03c34a7f864430664d247c48",
              "IPY_MODEL_16f630ca1342424faf64409579f18a06"
            ],
            "layout": "IPY_MODEL_e7375d05cf8242f0939aee937d0468f6"
          }
        },
        "03527a0ba927487eb14b5d6a78e58bf4": {
          "model_module": "@jupyter-widgets/controls",
          "model_name": "HTMLModel",
          "model_module_version": "1.5.0",
          "state": {
            "_dom_classes": [],
            "_model_module": "@jupyter-widgets/controls",
            "_model_module_version": "1.5.0",
            "_model_name": "HTMLModel",
            "_view_count": null,
            "_view_module": "@jupyter-widgets/controls",
            "_view_module_version": "1.5.0",
            "_view_name": "HTMLView",
            "description": "",
            "description_tooltip": null,
            "layout": "IPY_MODEL_3ff0b18627be4b1cb487d1b974b8cf45",
            "placeholder": "​",
            "style": "IPY_MODEL_f9446a9ff48943b0a991f08b699f848f",
            "value": "Loading checkpoint shards: 100%"
          }
        },
        "2de1fb2f03c34a7f864430664d247c48": {
          "model_module": "@jupyter-widgets/controls",
          "model_name": "FloatProgressModel",
          "model_module_version": "1.5.0",
          "state": {
            "_dom_classes": [],
            "_model_module": "@jupyter-widgets/controls",
            "_model_module_version": "1.5.0",
            "_model_name": "FloatProgressModel",
            "_view_count": null,
            "_view_module": "@jupyter-widgets/controls",
            "_view_module_version": "1.5.0",
            "_view_name": "ProgressView",
            "bar_style": "success",
            "description": "",
            "description_tooltip": null,
            "layout": "IPY_MODEL_97ad2f387f8648299a7eb7c34ee4cda2",
            "max": 3,
            "min": 0,
            "orientation": "horizontal",
            "style": "IPY_MODEL_c2dd31c7d4364171bf54cbf98ae14864",
            "value": 3
          }
        },
        "16f630ca1342424faf64409579f18a06": {
          "model_module": "@jupyter-widgets/controls",
          "model_name": "HTMLModel",
          "model_module_version": "1.5.0",
          "state": {
            "_dom_classes": [],
            "_model_module": "@jupyter-widgets/controls",
            "_model_module_version": "1.5.0",
            "_model_name": "HTMLModel",
            "_view_count": null,
            "_view_module": "@jupyter-widgets/controls",
            "_view_module_version": "1.5.0",
            "_view_name": "HTMLView",
            "description": "",
            "description_tooltip": null,
            "layout": "IPY_MODEL_cffe26da4c1148abb73bc5885caf28a9",
            "placeholder": "​",
            "style": "IPY_MODEL_77cdbe61519343c38d03a0c03f90d092",
            "value": " 3/3 [00:01&lt;00:00,  2.44it/s]"
          }
        },
        "e7375d05cf8242f0939aee937d0468f6": {
          "model_module": "@jupyter-widgets/base",
          "model_name": "LayoutModel",
          "model_module_version": "1.2.0",
          "state": {
            "_model_module": "@jupyter-widgets/base",
            "_model_module_version": "1.2.0",
            "_model_name": "LayoutModel",
            "_view_count": null,
            "_view_module": "@jupyter-widgets/base",
            "_view_module_version": "1.2.0",
            "_view_name": "LayoutView",
            "align_content": null,
            "align_items": null,
            "align_self": null,
            "border": null,
            "bottom": null,
            "display": null,
            "flex": null,
            "flex_flow": null,
            "grid_area": null,
            "grid_auto_columns": null,
            "grid_auto_flow": null,
            "grid_auto_rows": null,
            "grid_column": null,
            "grid_gap": null,
            "grid_row": null,
            "grid_template_areas": null,
            "grid_template_columns": null,
            "grid_template_rows": null,
            "height": null,
            "justify_content": null,
            "justify_items": null,
            "left": null,
            "margin": null,
            "max_height": null,
            "max_width": null,
            "min_height": null,
            "min_width": null,
            "object_fit": null,
            "object_position": null,
            "order": null,
            "overflow": null,
            "overflow_x": null,
            "overflow_y": null,
            "padding": null,
            "right": null,
            "top": null,
            "visibility": null,
            "width": null
          }
        },
        "3ff0b18627be4b1cb487d1b974b8cf45": {
          "model_module": "@jupyter-widgets/base",
          "model_name": "LayoutModel",
          "model_module_version": "1.2.0",
          "state": {
            "_model_module": "@jupyter-widgets/base",
            "_model_module_version": "1.2.0",
            "_model_name": "LayoutModel",
            "_view_count": null,
            "_view_module": "@jupyter-widgets/base",
            "_view_module_version": "1.2.0",
            "_view_name": "LayoutView",
            "align_content": null,
            "align_items": null,
            "align_self": null,
            "border": null,
            "bottom": null,
            "display": null,
            "flex": null,
            "flex_flow": null,
            "grid_area": null,
            "grid_auto_columns": null,
            "grid_auto_flow": null,
            "grid_auto_rows": null,
            "grid_column": null,
            "grid_gap": null,
            "grid_row": null,
            "grid_template_areas": null,
            "grid_template_columns": null,
            "grid_template_rows": null,
            "height": null,
            "justify_content": null,
            "justify_items": null,
            "left": null,
            "margin": null,
            "max_height": null,
            "max_width": null,
            "min_height": null,
            "min_width": null,
            "object_fit": null,
            "object_position": null,
            "order": null,
            "overflow": null,
            "overflow_x": null,
            "overflow_y": null,
            "padding": null,
            "right": null,
            "top": null,
            "visibility": null,
            "width": null
          }
        },
        "f9446a9ff48943b0a991f08b699f848f": {
          "model_module": "@jupyter-widgets/controls",
          "model_name": "DescriptionStyleModel",
          "model_module_version": "1.5.0",
          "state": {
            "_model_module": "@jupyter-widgets/controls",
            "_model_module_version": "1.5.0",
            "_model_name": "DescriptionStyleModel",
            "_view_count": null,
            "_view_module": "@jupyter-widgets/base",
            "_view_module_version": "1.2.0",
            "_view_name": "StyleView",
            "description_width": ""
          }
        },
        "97ad2f387f8648299a7eb7c34ee4cda2": {
          "model_module": "@jupyter-widgets/base",
          "model_name": "LayoutModel",
          "model_module_version": "1.2.0",
          "state": {
            "_model_module": "@jupyter-widgets/base",
            "_model_module_version": "1.2.0",
            "_model_name": "LayoutModel",
            "_view_count": null,
            "_view_module": "@jupyter-widgets/base",
            "_view_module_version": "1.2.0",
            "_view_name": "LayoutView",
            "align_content": null,
            "align_items": null,
            "align_self": null,
            "border": null,
            "bottom": null,
            "display": null,
            "flex": null,
            "flex_flow": null,
            "grid_area": null,
            "grid_auto_columns": null,
            "grid_auto_flow": null,
            "grid_auto_rows": null,
            "grid_column": null,
            "grid_gap": null,
            "grid_row": null,
            "grid_template_areas": null,
            "grid_template_columns": null,
            "grid_template_rows": null,
            "height": null,
            "justify_content": null,
            "justify_items": null,
            "left": null,
            "margin": null,
            "max_height": null,
            "max_width": null,
            "min_height": null,
            "min_width": null,
            "object_fit": null,
            "object_position": null,
            "order": null,
            "overflow": null,
            "overflow_x": null,
            "overflow_y": null,
            "padding": null,
            "right": null,
            "top": null,
            "visibility": null,
            "width": null
          }
        },
        "c2dd31c7d4364171bf54cbf98ae14864": {
          "model_module": "@jupyter-widgets/controls",
          "model_name": "ProgressStyleModel",
          "model_module_version": "1.5.0",
          "state": {
            "_model_module": "@jupyter-widgets/controls",
            "_model_module_version": "1.5.0",
            "_model_name": "ProgressStyleModel",
            "_view_count": null,
            "_view_module": "@jupyter-widgets/base",
            "_view_module_version": "1.2.0",
            "_view_name": "StyleView",
            "bar_color": null,
            "description_width": ""
          }
        },
        "cffe26da4c1148abb73bc5885caf28a9": {
          "model_module": "@jupyter-widgets/base",
          "model_name": "LayoutModel",
          "model_module_version": "1.2.0",
          "state": {
            "_model_module": "@jupyter-widgets/base",
            "_model_module_version": "1.2.0",
            "_model_name": "LayoutModel",
            "_view_count": null,
            "_view_module": "@jupyter-widgets/base",
            "_view_module_version": "1.2.0",
            "_view_name": "LayoutView",
            "align_content": null,
            "align_items": null,
            "align_self": null,
            "border": null,
            "bottom": null,
            "display": null,
            "flex": null,
            "flex_flow": null,
            "grid_area": null,
            "grid_auto_columns": null,
            "grid_auto_flow": null,
            "grid_auto_rows": null,
            "grid_column": null,
            "grid_gap": null,
            "grid_row": null,
            "grid_template_areas": null,
            "grid_template_columns": null,
            "grid_template_rows": null,
            "height": null,
            "justify_content": null,
            "justify_items": null,
            "left": null,
            "margin": null,
            "max_height": null,
            "max_width": null,
            "min_height": null,
            "min_width": null,
            "object_fit": null,
            "object_position": null,
            "order": null,
            "overflow": null,
            "overflow_x": null,
            "overflow_y": null,
            "padding": null,
            "right": null,
            "top": null,
            "visibility": null,
            "width": null
          }
        },
        "77cdbe61519343c38d03a0c03f90d092": {
          "model_module": "@jupyter-widgets/controls",
          "model_name": "DescriptionStyleModel",
          "model_module_version": "1.5.0",
          "state": {
            "_model_module": "@jupyter-widgets/controls",
            "_model_module_version": "1.5.0",
            "_model_name": "DescriptionStyleModel",
            "_view_count": null,
            "_view_module": "@jupyter-widgets/base",
            "_view_module_version": "1.2.0",
            "_view_name": "StyleView",
            "description_width": ""
          }
        },
        "2d03740d933648edb02620e5bc3baede": {
          "model_module": "@jupyter-widgets/controls",
          "model_name": "VBoxModel",
          "model_module_version": "1.5.0",
          "state": {
            "_dom_classes": [],
            "_model_module": "@jupyter-widgets/controls",
            "_model_module_version": "1.5.0",
            "_model_name": "VBoxModel",
            "_view_count": null,
            "_view_module": "@jupyter-widgets/controls",
            "_view_module_version": "1.5.0",
            "_view_name": "VBoxView",
            "box_style": "",
            "children": [
              "IPY_MODEL_c276d7c3563d4434ad7a533bce4158fe",
              "IPY_MODEL_8fc915aa8c8a401b8151f726372c0fe4",
              "IPY_MODEL_a2429b742ce54827a2453a43b5ad9bff"
            ],
            "layout": "IPY_MODEL_09afac892c7c4d18b227aa36eb39c544"
          }
        },
        "c1c19d2f7970437bb8cbe5de58cfa9ea": {
          "model_module": "@jupyter-widgets/controls",
          "model_name": "HTMLModel",
          "model_module_version": "1.5.0",
          "state": {
            "_dom_classes": [],
            "_model_module": "@jupyter-widgets/controls",
            "_model_module_version": "1.5.0",
            "_model_name": "HTMLModel",
            "_view_count": null,
            "_view_module": "@jupyter-widgets/controls",
            "_view_module_version": "1.5.0",
            "_view_name": "HTMLView",
            "description": "",
            "description_tooltip": null,
            "layout": "IPY_MODEL_bf785b99bd1b4087b180f13a2a0a808d",
            "placeholder": "​",
            "style": "IPY_MODEL_856be4f573c347a89a5e5c7bd773d9b8",
            "value": "<center> <img\nsrc=https://huggingface.co/front/assets/huggingface_logo-noborder.svg\nalt='Hugging Face'> <br> Copy a token from <a\nhref=\"https://huggingface.co/settings/tokens\" target=\"_blank\">your Hugging Face\ntokens page</a> and paste it below. <br> Immediately click login after copying\nyour token or it might be stored in plain text in this notebook file. </center>"
          }
        },
        "82cc67fa590d4abfa52a51787be2b92e": {
          "model_module": "@jupyter-widgets/controls",
          "model_name": "PasswordModel",
          "model_module_version": "1.5.0",
          "state": {
            "_dom_classes": [],
            "_model_module": "@jupyter-widgets/controls",
            "_model_module_version": "1.5.0",
            "_model_name": "PasswordModel",
            "_view_count": null,
            "_view_module": "@jupyter-widgets/controls",
            "_view_module_version": "1.5.0",
            "_view_name": "PasswordView",
            "continuous_update": true,
            "description": "Token:",
            "description_tooltip": null,
            "disabled": false,
            "layout": "IPY_MODEL_15fc396c7265426aa4aa099f3ce42607",
            "placeholder": "​",
            "style": "IPY_MODEL_27c6831716ca4bea992456338ce903a6",
            "value": ""
          }
        },
        "73516327294c4497ac20e111ef4b9cd1": {
          "model_module": "@jupyter-widgets/controls",
          "model_name": "CheckboxModel",
          "model_module_version": "1.5.0",
          "state": {
            "_dom_classes": [],
            "_model_module": "@jupyter-widgets/controls",
            "_model_module_version": "1.5.0",
            "_model_name": "CheckboxModel",
            "_view_count": null,
            "_view_module": "@jupyter-widgets/controls",
            "_view_module_version": "1.5.0",
            "_view_name": "CheckboxView",
            "description": "Add token as git credential?",
            "description_tooltip": null,
            "disabled": false,
            "indent": true,
            "layout": "IPY_MODEL_82cc9877b7d24ac09c5f6b1c6dcda737",
            "style": "IPY_MODEL_b10f5717b9504cbabbe01b802b0777ed",
            "value": false
          }
        },
        "c23ce8a73ab9462f8287879778a20ab9": {
          "model_module": "@jupyter-widgets/controls",
          "model_name": "ButtonModel",
          "model_module_version": "1.5.0",
          "state": {
            "_dom_classes": [],
            "_model_module": "@jupyter-widgets/controls",
            "_model_module_version": "1.5.0",
            "_model_name": "ButtonModel",
            "_view_count": null,
            "_view_module": "@jupyter-widgets/controls",
            "_view_module_version": "1.5.0",
            "_view_name": "ButtonView",
            "button_style": "",
            "description": "Login",
            "disabled": false,
            "icon": "",
            "layout": "IPY_MODEL_b452c79b47264166aedd3b1536cf5026",
            "style": "IPY_MODEL_d692904d5c3c4b75bb58e3fc0fac4455",
            "tooltip": ""
          }
        },
        "18fcb48e242e473ba9467af223989819": {
          "model_module": "@jupyter-widgets/controls",
          "model_name": "HTMLModel",
          "model_module_version": "1.5.0",
          "state": {
            "_dom_classes": [],
            "_model_module": "@jupyter-widgets/controls",
            "_model_module_version": "1.5.0",
            "_model_name": "HTMLModel",
            "_view_count": null,
            "_view_module": "@jupyter-widgets/controls",
            "_view_module_version": "1.5.0",
            "_view_name": "HTMLView",
            "description": "",
            "description_tooltip": null,
            "layout": "IPY_MODEL_fb3c2c5c0d3a4b7fb7cbe06429d6e3ea",
            "placeholder": "​",
            "style": "IPY_MODEL_488de34b4fe44819bb28344af518812f",
            "value": "\n<b>Pro Tip:</b> If you don't already have one, you can create a dedicated\n'notebooks' token with 'write' access, that you can then easily reuse for all\nnotebooks. </center>"
          }
        },
        "09afac892c7c4d18b227aa36eb39c544": {
          "model_module": "@jupyter-widgets/base",
          "model_name": "LayoutModel",
          "model_module_version": "1.2.0",
          "state": {
            "_model_module": "@jupyter-widgets/base",
            "_model_module_version": "1.2.0",
            "_model_name": "LayoutModel",
            "_view_count": null,
            "_view_module": "@jupyter-widgets/base",
            "_view_module_version": "1.2.0",
            "_view_name": "LayoutView",
            "align_content": null,
            "align_items": "center",
            "align_self": null,
            "border": null,
            "bottom": null,
            "display": "flex",
            "flex": null,
            "flex_flow": "column",
            "grid_area": null,
            "grid_auto_columns": null,
            "grid_auto_flow": null,
            "grid_auto_rows": null,
            "grid_column": null,
            "grid_gap": null,
            "grid_row": null,
            "grid_template_areas": null,
            "grid_template_columns": null,
            "grid_template_rows": null,
            "height": null,
            "justify_content": null,
            "justify_items": null,
            "left": null,
            "margin": null,
            "max_height": null,
            "max_width": null,
            "min_height": null,
            "min_width": null,
            "object_fit": null,
            "object_position": null,
            "order": null,
            "overflow": null,
            "overflow_x": null,
            "overflow_y": null,
            "padding": null,
            "right": null,
            "top": null,
            "visibility": null,
            "width": "50%"
          }
        },
        "bf785b99bd1b4087b180f13a2a0a808d": {
          "model_module": "@jupyter-widgets/base",
          "model_name": "LayoutModel",
          "model_module_version": "1.2.0",
          "state": {
            "_model_module": "@jupyter-widgets/base",
            "_model_module_version": "1.2.0",
            "_model_name": "LayoutModel",
            "_view_count": null,
            "_view_module": "@jupyter-widgets/base",
            "_view_module_version": "1.2.0",
            "_view_name": "LayoutView",
            "align_content": null,
            "align_items": null,
            "align_self": null,
            "border": null,
            "bottom": null,
            "display": null,
            "flex": null,
            "flex_flow": null,
            "grid_area": null,
            "grid_auto_columns": null,
            "grid_auto_flow": null,
            "grid_auto_rows": null,
            "grid_column": null,
            "grid_gap": null,
            "grid_row": null,
            "grid_template_areas": null,
            "grid_template_columns": null,
            "grid_template_rows": null,
            "height": null,
            "justify_content": null,
            "justify_items": null,
            "left": null,
            "margin": null,
            "max_height": null,
            "max_width": null,
            "min_height": null,
            "min_width": null,
            "object_fit": null,
            "object_position": null,
            "order": null,
            "overflow": null,
            "overflow_x": null,
            "overflow_y": null,
            "padding": null,
            "right": null,
            "top": null,
            "visibility": null,
            "width": null
          }
        },
        "856be4f573c347a89a5e5c7bd773d9b8": {
          "model_module": "@jupyter-widgets/controls",
          "model_name": "DescriptionStyleModel",
          "model_module_version": "1.5.0",
          "state": {
            "_model_module": "@jupyter-widgets/controls",
            "_model_module_version": "1.5.0",
            "_model_name": "DescriptionStyleModel",
            "_view_count": null,
            "_view_module": "@jupyter-widgets/base",
            "_view_module_version": "1.2.0",
            "_view_name": "StyleView",
            "description_width": ""
          }
        },
        "15fc396c7265426aa4aa099f3ce42607": {
          "model_module": "@jupyter-widgets/base",
          "model_name": "LayoutModel",
          "model_module_version": "1.2.0",
          "state": {
            "_model_module": "@jupyter-widgets/base",
            "_model_module_version": "1.2.0",
            "_model_name": "LayoutModel",
            "_view_count": null,
            "_view_module": "@jupyter-widgets/base",
            "_view_module_version": "1.2.0",
            "_view_name": "LayoutView",
            "align_content": null,
            "align_items": null,
            "align_self": null,
            "border": null,
            "bottom": null,
            "display": null,
            "flex": null,
            "flex_flow": null,
            "grid_area": null,
            "grid_auto_columns": null,
            "grid_auto_flow": null,
            "grid_auto_rows": null,
            "grid_column": null,
            "grid_gap": null,
            "grid_row": null,
            "grid_template_areas": null,
            "grid_template_columns": null,
            "grid_template_rows": null,
            "height": null,
            "justify_content": null,
            "justify_items": null,
            "left": null,
            "margin": null,
            "max_height": null,
            "max_width": null,
            "min_height": null,
            "min_width": null,
            "object_fit": null,
            "object_position": null,
            "order": null,
            "overflow": null,
            "overflow_x": null,
            "overflow_y": null,
            "padding": null,
            "right": null,
            "top": null,
            "visibility": null,
            "width": null
          }
        },
        "27c6831716ca4bea992456338ce903a6": {
          "model_module": "@jupyter-widgets/controls",
          "model_name": "DescriptionStyleModel",
          "model_module_version": "1.5.0",
          "state": {
            "_model_module": "@jupyter-widgets/controls",
            "_model_module_version": "1.5.0",
            "_model_name": "DescriptionStyleModel",
            "_view_count": null,
            "_view_module": "@jupyter-widgets/base",
            "_view_module_version": "1.2.0",
            "_view_name": "StyleView",
            "description_width": ""
          }
        },
        "82cc9877b7d24ac09c5f6b1c6dcda737": {
          "model_module": "@jupyter-widgets/base",
          "model_name": "LayoutModel",
          "model_module_version": "1.2.0",
          "state": {
            "_model_module": "@jupyter-widgets/base",
            "_model_module_version": "1.2.0",
            "_model_name": "LayoutModel",
            "_view_count": null,
            "_view_module": "@jupyter-widgets/base",
            "_view_module_version": "1.2.0",
            "_view_name": "LayoutView",
            "align_content": null,
            "align_items": null,
            "align_self": null,
            "border": null,
            "bottom": null,
            "display": null,
            "flex": null,
            "flex_flow": null,
            "grid_area": null,
            "grid_auto_columns": null,
            "grid_auto_flow": null,
            "grid_auto_rows": null,
            "grid_column": null,
            "grid_gap": null,
            "grid_row": null,
            "grid_template_areas": null,
            "grid_template_columns": null,
            "grid_template_rows": null,
            "height": null,
            "justify_content": null,
            "justify_items": null,
            "left": null,
            "margin": null,
            "max_height": null,
            "max_width": null,
            "min_height": null,
            "min_width": null,
            "object_fit": null,
            "object_position": null,
            "order": null,
            "overflow": null,
            "overflow_x": null,
            "overflow_y": null,
            "padding": null,
            "right": null,
            "top": null,
            "visibility": null,
            "width": null
          }
        },
        "b10f5717b9504cbabbe01b802b0777ed": {
          "model_module": "@jupyter-widgets/controls",
          "model_name": "DescriptionStyleModel",
          "model_module_version": "1.5.0",
          "state": {
            "_model_module": "@jupyter-widgets/controls",
            "_model_module_version": "1.5.0",
            "_model_name": "DescriptionStyleModel",
            "_view_count": null,
            "_view_module": "@jupyter-widgets/base",
            "_view_module_version": "1.2.0",
            "_view_name": "StyleView",
            "description_width": ""
          }
        },
        "b452c79b47264166aedd3b1536cf5026": {
          "model_module": "@jupyter-widgets/base",
          "model_name": "LayoutModel",
          "model_module_version": "1.2.0",
          "state": {
            "_model_module": "@jupyter-widgets/base",
            "_model_module_version": "1.2.0",
            "_model_name": "LayoutModel",
            "_view_count": null,
            "_view_module": "@jupyter-widgets/base",
            "_view_module_version": "1.2.0",
            "_view_name": "LayoutView",
            "align_content": null,
            "align_items": null,
            "align_self": null,
            "border": null,
            "bottom": null,
            "display": null,
            "flex": null,
            "flex_flow": null,
            "grid_area": null,
            "grid_auto_columns": null,
            "grid_auto_flow": null,
            "grid_auto_rows": null,
            "grid_column": null,
            "grid_gap": null,
            "grid_row": null,
            "grid_template_areas": null,
            "grid_template_columns": null,
            "grid_template_rows": null,
            "height": null,
            "justify_content": null,
            "justify_items": null,
            "left": null,
            "margin": null,
            "max_height": null,
            "max_width": null,
            "min_height": null,
            "min_width": null,
            "object_fit": null,
            "object_position": null,
            "order": null,
            "overflow": null,
            "overflow_x": null,
            "overflow_y": null,
            "padding": null,
            "right": null,
            "top": null,
            "visibility": null,
            "width": null
          }
        },
        "d692904d5c3c4b75bb58e3fc0fac4455": {
          "model_module": "@jupyter-widgets/controls",
          "model_name": "ButtonStyleModel",
          "model_module_version": "1.5.0",
          "state": {
            "_model_module": "@jupyter-widgets/controls",
            "_model_module_version": "1.5.0",
            "_model_name": "ButtonStyleModel",
            "_view_count": null,
            "_view_module": "@jupyter-widgets/base",
            "_view_module_version": "1.2.0",
            "_view_name": "StyleView",
            "button_color": null,
            "font_weight": ""
          }
        },
        "fb3c2c5c0d3a4b7fb7cbe06429d6e3ea": {
          "model_module": "@jupyter-widgets/base",
          "model_name": "LayoutModel",
          "model_module_version": "1.2.0",
          "state": {
            "_model_module": "@jupyter-widgets/base",
            "_model_module_version": "1.2.0",
            "_model_name": "LayoutModel",
            "_view_count": null,
            "_view_module": "@jupyter-widgets/base",
            "_view_module_version": "1.2.0",
            "_view_name": "LayoutView",
            "align_content": null,
            "align_items": null,
            "align_self": null,
            "border": null,
            "bottom": null,
            "display": null,
            "flex": null,
            "flex_flow": null,
            "grid_area": null,
            "grid_auto_columns": null,
            "grid_auto_flow": null,
            "grid_auto_rows": null,
            "grid_column": null,
            "grid_gap": null,
            "grid_row": null,
            "grid_template_areas": null,
            "grid_template_columns": null,
            "grid_template_rows": null,
            "height": null,
            "justify_content": null,
            "justify_items": null,
            "left": null,
            "margin": null,
            "max_height": null,
            "max_width": null,
            "min_height": null,
            "min_width": null,
            "object_fit": null,
            "object_position": null,
            "order": null,
            "overflow": null,
            "overflow_x": null,
            "overflow_y": null,
            "padding": null,
            "right": null,
            "top": null,
            "visibility": null,
            "width": null
          }
        },
        "488de34b4fe44819bb28344af518812f": {
          "model_module": "@jupyter-widgets/controls",
          "model_name": "DescriptionStyleModel",
          "model_module_version": "1.5.0",
          "state": {
            "_model_module": "@jupyter-widgets/controls",
            "_model_module_version": "1.5.0",
            "_model_name": "DescriptionStyleModel",
            "_view_count": null,
            "_view_module": "@jupyter-widgets/base",
            "_view_module_version": "1.2.0",
            "_view_name": "StyleView",
            "description_width": ""
          }
        },
        "67190ca67f0140e0b140188a916366c0": {
          "model_module": "@jupyter-widgets/controls",
          "model_name": "LabelModel",
          "model_module_version": "1.5.0",
          "state": {
            "_dom_classes": [],
            "_model_module": "@jupyter-widgets/controls",
            "_model_module_version": "1.5.0",
            "_model_name": "LabelModel",
            "_view_count": null,
            "_view_module": "@jupyter-widgets/controls",
            "_view_module_version": "1.5.0",
            "_view_name": "LabelView",
            "description": "",
            "description_tooltip": null,
            "layout": "IPY_MODEL_e387c50ca7b4410983bd2856c713ca37",
            "placeholder": "​",
            "style": "IPY_MODEL_54513d5c44634b778fd397bdbac0a019",
            "value": "Connecting..."
          }
        },
        "e387c50ca7b4410983bd2856c713ca37": {
          "model_module": "@jupyter-widgets/base",
          "model_name": "LayoutModel",
          "model_module_version": "1.2.0",
          "state": {
            "_model_module": "@jupyter-widgets/base",
            "_model_module_version": "1.2.0",
            "_model_name": "LayoutModel",
            "_view_count": null,
            "_view_module": "@jupyter-widgets/base",
            "_view_module_version": "1.2.0",
            "_view_name": "LayoutView",
            "align_content": null,
            "align_items": null,
            "align_self": null,
            "border": null,
            "bottom": null,
            "display": null,
            "flex": null,
            "flex_flow": null,
            "grid_area": null,
            "grid_auto_columns": null,
            "grid_auto_flow": null,
            "grid_auto_rows": null,
            "grid_column": null,
            "grid_gap": null,
            "grid_row": null,
            "grid_template_areas": null,
            "grid_template_columns": null,
            "grid_template_rows": null,
            "height": null,
            "justify_content": null,
            "justify_items": null,
            "left": null,
            "margin": null,
            "max_height": null,
            "max_width": null,
            "min_height": null,
            "min_width": null,
            "object_fit": null,
            "object_position": null,
            "order": null,
            "overflow": null,
            "overflow_x": null,
            "overflow_y": null,
            "padding": null,
            "right": null,
            "top": null,
            "visibility": null,
            "width": null
          }
        },
        "54513d5c44634b778fd397bdbac0a019": {
          "model_module": "@jupyter-widgets/controls",
          "model_name": "DescriptionStyleModel",
          "model_module_version": "1.5.0",
          "state": {
            "_model_module": "@jupyter-widgets/controls",
            "_model_module_version": "1.5.0",
            "_model_name": "DescriptionStyleModel",
            "_view_count": null,
            "_view_module": "@jupyter-widgets/base",
            "_view_module_version": "1.2.0",
            "_view_name": "StyleView",
            "description_width": ""
          }
        },
        "c276d7c3563d4434ad7a533bce4158fe": {
          "model_module": "@jupyter-widgets/controls",
          "model_name": "LabelModel",
          "model_module_version": "1.5.0",
          "state": {
            "_dom_classes": [],
            "_model_module": "@jupyter-widgets/controls",
            "_model_module_version": "1.5.0",
            "_model_name": "LabelModel",
            "_view_count": null,
            "_view_module": "@jupyter-widgets/controls",
            "_view_module_version": "1.5.0",
            "_view_name": "LabelView",
            "description": "",
            "description_tooltip": null,
            "layout": "IPY_MODEL_5f89630d13e24a1a83936515292a07bd",
            "placeholder": "​",
            "style": "IPY_MODEL_6e2173f5d6834d7e9b037238ce438130",
            "value": "Token is valid (permission: read)."
          }
        },
        "8fc915aa8c8a401b8151f726372c0fe4": {
          "model_module": "@jupyter-widgets/controls",
          "model_name": "LabelModel",
          "model_module_version": "1.5.0",
          "state": {
            "_dom_classes": [],
            "_model_module": "@jupyter-widgets/controls",
            "_model_module_version": "1.5.0",
            "_model_name": "LabelModel",
            "_view_count": null,
            "_view_module": "@jupyter-widgets/controls",
            "_view_module_version": "1.5.0",
            "_view_name": "LabelView",
            "description": "",
            "description_tooltip": null,
            "layout": "IPY_MODEL_22ead4e4e99a47e0b82366bee8537121",
            "placeholder": "​",
            "style": "IPY_MODEL_550acd6f08994a87a5e84b69a2174e76",
            "value": "Your token has been saved to /root/.cache/huggingface/token"
          }
        },
        "a2429b742ce54827a2453a43b5ad9bff": {
          "model_module": "@jupyter-widgets/controls",
          "model_name": "LabelModel",
          "model_module_version": "1.5.0",
          "state": {
            "_dom_classes": [],
            "_model_module": "@jupyter-widgets/controls",
            "_model_module_version": "1.5.0",
            "_model_name": "LabelModel",
            "_view_count": null,
            "_view_module": "@jupyter-widgets/controls",
            "_view_module_version": "1.5.0",
            "_view_name": "LabelView",
            "description": "",
            "description_tooltip": null,
            "layout": "IPY_MODEL_5111ba873aa6469c859f38ddcd33b5c3",
            "placeholder": "​",
            "style": "IPY_MODEL_fb2ac66d65544378b4469ea690c0a37b",
            "value": "Login successful"
          }
        },
        "5f89630d13e24a1a83936515292a07bd": {
          "model_module": "@jupyter-widgets/base",
          "model_name": "LayoutModel",
          "model_module_version": "1.2.0",
          "state": {
            "_model_module": "@jupyter-widgets/base",
            "_model_module_version": "1.2.0",
            "_model_name": "LayoutModel",
            "_view_count": null,
            "_view_module": "@jupyter-widgets/base",
            "_view_module_version": "1.2.0",
            "_view_name": "LayoutView",
            "align_content": null,
            "align_items": null,
            "align_self": null,
            "border": null,
            "bottom": null,
            "display": null,
            "flex": null,
            "flex_flow": null,
            "grid_area": null,
            "grid_auto_columns": null,
            "grid_auto_flow": null,
            "grid_auto_rows": null,
            "grid_column": null,
            "grid_gap": null,
            "grid_row": null,
            "grid_template_areas": null,
            "grid_template_columns": null,
            "grid_template_rows": null,
            "height": null,
            "justify_content": null,
            "justify_items": null,
            "left": null,
            "margin": null,
            "max_height": null,
            "max_width": null,
            "min_height": null,
            "min_width": null,
            "object_fit": null,
            "object_position": null,
            "order": null,
            "overflow": null,
            "overflow_x": null,
            "overflow_y": null,
            "padding": null,
            "right": null,
            "top": null,
            "visibility": null,
            "width": null
          }
        },
        "6e2173f5d6834d7e9b037238ce438130": {
          "model_module": "@jupyter-widgets/controls",
          "model_name": "DescriptionStyleModel",
          "model_module_version": "1.5.0",
          "state": {
            "_model_module": "@jupyter-widgets/controls",
            "_model_module_version": "1.5.0",
            "_model_name": "DescriptionStyleModel",
            "_view_count": null,
            "_view_module": "@jupyter-widgets/base",
            "_view_module_version": "1.2.0",
            "_view_name": "StyleView",
            "description_width": ""
          }
        },
        "22ead4e4e99a47e0b82366bee8537121": {
          "model_module": "@jupyter-widgets/base",
          "model_name": "LayoutModel",
          "model_module_version": "1.2.0",
          "state": {
            "_model_module": "@jupyter-widgets/base",
            "_model_module_version": "1.2.0",
            "_model_name": "LayoutModel",
            "_view_count": null,
            "_view_module": "@jupyter-widgets/base",
            "_view_module_version": "1.2.0",
            "_view_name": "LayoutView",
            "align_content": null,
            "align_items": null,
            "align_self": null,
            "border": null,
            "bottom": null,
            "display": null,
            "flex": null,
            "flex_flow": null,
            "grid_area": null,
            "grid_auto_columns": null,
            "grid_auto_flow": null,
            "grid_auto_rows": null,
            "grid_column": null,
            "grid_gap": null,
            "grid_row": null,
            "grid_template_areas": null,
            "grid_template_columns": null,
            "grid_template_rows": null,
            "height": null,
            "justify_content": null,
            "justify_items": null,
            "left": null,
            "margin": null,
            "max_height": null,
            "max_width": null,
            "min_height": null,
            "min_width": null,
            "object_fit": null,
            "object_position": null,
            "order": null,
            "overflow": null,
            "overflow_x": null,
            "overflow_y": null,
            "padding": null,
            "right": null,
            "top": null,
            "visibility": null,
            "width": null
          }
        },
        "550acd6f08994a87a5e84b69a2174e76": {
          "model_module": "@jupyter-widgets/controls",
          "model_name": "DescriptionStyleModel",
          "model_module_version": "1.5.0",
          "state": {
            "_model_module": "@jupyter-widgets/controls",
            "_model_module_version": "1.5.0",
            "_model_name": "DescriptionStyleModel",
            "_view_count": null,
            "_view_module": "@jupyter-widgets/base",
            "_view_module_version": "1.2.0",
            "_view_name": "StyleView",
            "description_width": ""
          }
        },
        "5111ba873aa6469c859f38ddcd33b5c3": {
          "model_module": "@jupyter-widgets/base",
          "model_name": "LayoutModel",
          "model_module_version": "1.2.0",
          "state": {
            "_model_module": "@jupyter-widgets/base",
            "_model_module_version": "1.2.0",
            "_model_name": "LayoutModel",
            "_view_count": null,
            "_view_module": "@jupyter-widgets/base",
            "_view_module_version": "1.2.0",
            "_view_name": "LayoutView",
            "align_content": null,
            "align_items": null,
            "align_self": null,
            "border": null,
            "bottom": null,
            "display": null,
            "flex": null,
            "flex_flow": null,
            "grid_area": null,
            "grid_auto_columns": null,
            "grid_auto_flow": null,
            "grid_auto_rows": null,
            "grid_column": null,
            "grid_gap": null,
            "grid_row": null,
            "grid_template_areas": null,
            "grid_template_columns": null,
            "grid_template_rows": null,
            "height": null,
            "justify_content": null,
            "justify_items": null,
            "left": null,
            "margin": null,
            "max_height": null,
            "max_width": null,
            "min_height": null,
            "min_width": null,
            "object_fit": null,
            "object_position": null,
            "order": null,
            "overflow": null,
            "overflow_x": null,
            "overflow_y": null,
            "padding": null,
            "right": null,
            "top": null,
            "visibility": null,
            "width": null
          }
        },
        "fb2ac66d65544378b4469ea690c0a37b": {
          "model_module": "@jupyter-widgets/controls",
          "model_name": "DescriptionStyleModel",
          "model_module_version": "1.5.0",
          "state": {
            "_model_module": "@jupyter-widgets/controls",
            "_model_module_version": "1.5.0",
            "_model_name": "DescriptionStyleModel",
            "_view_count": null,
            "_view_module": "@jupyter-widgets/base",
            "_view_module_version": "1.2.0",
            "_view_name": "StyleView",
            "description_width": ""
          }
        },
        "663cc4306f864b0cb40b02ee62c129dd": {
          "model_module": "@jupyter-widgets/controls",
          "model_name": "HBoxModel",
          "model_module_version": "1.5.0",
          "state": {
            "_dom_classes": [],
            "_model_module": "@jupyter-widgets/controls",
            "_model_module_version": "1.5.0",
            "_model_name": "HBoxModel",
            "_view_count": null,
            "_view_module": "@jupyter-widgets/controls",
            "_view_module_version": "1.5.0",
            "_view_name": "HBoxView",
            "box_style": "",
            "children": [
              "IPY_MODEL_f001fb52f5f64cfc939eeced6e590928",
              "IPY_MODEL_c10e8d0764364819976e8c89f9e3cc4c",
              "IPY_MODEL_1d64be8a9c4d425bb46f252fa9254433"
            ],
            "layout": "IPY_MODEL_3176292b86094a9b845657c7f4209805"
          }
        },
        "f001fb52f5f64cfc939eeced6e590928": {
          "model_module": "@jupyter-widgets/controls",
          "model_name": "HTMLModel",
          "model_module_version": "1.5.0",
          "state": {
            "_dom_classes": [],
            "_model_module": "@jupyter-widgets/controls",
            "_model_module_version": "1.5.0",
            "_model_name": "HTMLModel",
            "_view_count": null,
            "_view_module": "@jupyter-widgets/controls",
            "_view_module_version": "1.5.0",
            "_view_name": "HTMLView",
            "description": "",
            "description_tooltip": null,
            "layout": "IPY_MODEL_79c2fd5e62f342b5b6d9632ea1c4c2de",
            "placeholder": "​",
            "style": "IPY_MODEL_8ed1523bf99c49d588f7044526ad1f90",
            "value": "adapter_model.safetensors: 100%"
          }
        },
        "c10e8d0764364819976e8c89f9e3cc4c": {
          "model_module": "@jupyter-widgets/controls",
          "model_name": "FloatProgressModel",
          "model_module_version": "1.5.0",
          "state": {
            "_dom_classes": [],
            "_model_module": "@jupyter-widgets/controls",
            "_model_module_version": "1.5.0",
            "_model_name": "FloatProgressModel",
            "_view_count": null,
            "_view_module": "@jupyter-widgets/controls",
            "_view_module_version": "1.5.0",
            "_view_name": "ProgressView",
            "bar_style": "success",
            "description": "",
            "description_tooltip": null,
            "layout": "IPY_MODEL_a3375e993caf494b954cc6622fb69687",
            "max": 3193680,
            "min": 0,
            "orientation": "horizontal",
            "style": "IPY_MODEL_e9b5b7a1d46247849c634085bdb57ff7",
            "value": 3193680
          }
        },
        "1d64be8a9c4d425bb46f252fa9254433": {
          "model_module": "@jupyter-widgets/controls",
          "model_name": "HTMLModel",
          "model_module_version": "1.5.0",
          "state": {
            "_dom_classes": [],
            "_model_module": "@jupyter-widgets/controls",
            "_model_module_version": "1.5.0",
            "_model_name": "HTMLModel",
            "_view_count": null,
            "_view_module": "@jupyter-widgets/controls",
            "_view_module_version": "1.5.0",
            "_view_name": "HTMLView",
            "description": "",
            "description_tooltip": null,
            "layout": "IPY_MODEL_b02a0eef47c145379fb8c9d942f4e179",
            "placeholder": "​",
            "style": "IPY_MODEL_07344bdce1e34778ab993001df16be37",
            "value": " 3.19M/3.19M [00:00&lt;00:00, 138kB/s]"
          }
        },
        "3176292b86094a9b845657c7f4209805": {
          "model_module": "@jupyter-widgets/base",
          "model_name": "LayoutModel",
          "model_module_version": "1.2.0",
          "state": {
            "_model_module": "@jupyter-widgets/base",
            "_model_module_version": "1.2.0",
            "_model_name": "LayoutModel",
            "_view_count": null,
            "_view_module": "@jupyter-widgets/base",
            "_view_module_version": "1.2.0",
            "_view_name": "LayoutView",
            "align_content": null,
            "align_items": null,
            "align_self": null,
            "border": null,
            "bottom": null,
            "display": null,
            "flex": null,
            "flex_flow": null,
            "grid_area": null,
            "grid_auto_columns": null,
            "grid_auto_flow": null,
            "grid_auto_rows": null,
            "grid_column": null,
            "grid_gap": null,
            "grid_row": null,
            "grid_template_areas": null,
            "grid_template_columns": null,
            "grid_template_rows": null,
            "height": null,
            "justify_content": null,
            "justify_items": null,
            "left": null,
            "margin": null,
            "max_height": null,
            "max_width": null,
            "min_height": null,
            "min_width": null,
            "object_fit": null,
            "object_position": null,
            "order": null,
            "overflow": null,
            "overflow_x": null,
            "overflow_y": null,
            "padding": null,
            "right": null,
            "top": null,
            "visibility": null,
            "width": null
          }
        },
        "79c2fd5e62f342b5b6d9632ea1c4c2de": {
          "model_module": "@jupyter-widgets/base",
          "model_name": "LayoutModel",
          "model_module_version": "1.2.0",
          "state": {
            "_model_module": "@jupyter-widgets/base",
            "_model_module_version": "1.2.0",
            "_model_name": "LayoutModel",
            "_view_count": null,
            "_view_module": "@jupyter-widgets/base",
            "_view_module_version": "1.2.0",
            "_view_name": "LayoutView",
            "align_content": null,
            "align_items": null,
            "align_self": null,
            "border": null,
            "bottom": null,
            "display": null,
            "flex": null,
            "flex_flow": null,
            "grid_area": null,
            "grid_auto_columns": null,
            "grid_auto_flow": null,
            "grid_auto_rows": null,
            "grid_column": null,
            "grid_gap": null,
            "grid_row": null,
            "grid_template_areas": null,
            "grid_template_columns": null,
            "grid_template_rows": null,
            "height": null,
            "justify_content": null,
            "justify_items": null,
            "left": null,
            "margin": null,
            "max_height": null,
            "max_width": null,
            "min_height": null,
            "min_width": null,
            "object_fit": null,
            "object_position": null,
            "order": null,
            "overflow": null,
            "overflow_x": null,
            "overflow_y": null,
            "padding": null,
            "right": null,
            "top": null,
            "visibility": null,
            "width": null
          }
        },
        "8ed1523bf99c49d588f7044526ad1f90": {
          "model_module": "@jupyter-widgets/controls",
          "model_name": "DescriptionStyleModel",
          "model_module_version": "1.5.0",
          "state": {
            "_model_module": "@jupyter-widgets/controls",
            "_model_module_version": "1.5.0",
            "_model_name": "DescriptionStyleModel",
            "_view_count": null,
            "_view_module": "@jupyter-widgets/base",
            "_view_module_version": "1.2.0",
            "_view_name": "StyleView",
            "description_width": ""
          }
        },
        "a3375e993caf494b954cc6622fb69687": {
          "model_module": "@jupyter-widgets/base",
          "model_name": "LayoutModel",
          "model_module_version": "1.2.0",
          "state": {
            "_model_module": "@jupyter-widgets/base",
            "_model_module_version": "1.2.0",
            "_model_name": "LayoutModel",
            "_view_count": null,
            "_view_module": "@jupyter-widgets/base",
            "_view_module_version": "1.2.0",
            "_view_name": "LayoutView",
            "align_content": null,
            "align_items": null,
            "align_self": null,
            "border": null,
            "bottom": null,
            "display": null,
            "flex": null,
            "flex_flow": null,
            "grid_area": null,
            "grid_auto_columns": null,
            "grid_auto_flow": null,
            "grid_auto_rows": null,
            "grid_column": null,
            "grid_gap": null,
            "grid_row": null,
            "grid_template_areas": null,
            "grid_template_columns": null,
            "grid_template_rows": null,
            "height": null,
            "justify_content": null,
            "justify_items": null,
            "left": null,
            "margin": null,
            "max_height": null,
            "max_width": null,
            "min_height": null,
            "min_width": null,
            "object_fit": null,
            "object_position": null,
            "order": null,
            "overflow": null,
            "overflow_x": null,
            "overflow_y": null,
            "padding": null,
            "right": null,
            "top": null,
            "visibility": null,
            "width": null
          }
        },
        "e9b5b7a1d46247849c634085bdb57ff7": {
          "model_module": "@jupyter-widgets/controls",
          "model_name": "ProgressStyleModel",
          "model_module_version": "1.5.0",
          "state": {
            "_model_module": "@jupyter-widgets/controls",
            "_model_module_version": "1.5.0",
            "_model_name": "ProgressStyleModel",
            "_view_count": null,
            "_view_module": "@jupyter-widgets/base",
            "_view_module_version": "1.2.0",
            "_view_name": "StyleView",
            "bar_color": null,
            "description_width": ""
          }
        },
        "b02a0eef47c145379fb8c9d942f4e179": {
          "model_module": "@jupyter-widgets/base",
          "model_name": "LayoutModel",
          "model_module_version": "1.2.0",
          "state": {
            "_model_module": "@jupyter-widgets/base",
            "_model_module_version": "1.2.0",
            "_model_name": "LayoutModel",
            "_view_count": null,
            "_view_module": "@jupyter-widgets/base",
            "_view_module_version": "1.2.0",
            "_view_name": "LayoutView",
            "align_content": null,
            "align_items": null,
            "align_self": null,
            "border": null,
            "bottom": null,
            "display": null,
            "flex": null,
            "flex_flow": null,
            "grid_area": null,
            "grid_auto_columns": null,
            "grid_auto_flow": null,
            "grid_auto_rows": null,
            "grid_column": null,
            "grid_gap": null,
            "grid_row": null,
            "grid_template_areas": null,
            "grid_template_columns": null,
            "grid_template_rows": null,
            "height": null,
            "justify_content": null,
            "justify_items": null,
            "left": null,
            "margin": null,
            "max_height": null,
            "max_width": null,
            "min_height": null,
            "min_width": null,
            "object_fit": null,
            "object_position": null,
            "order": null,
            "overflow": null,
            "overflow_x": null,
            "overflow_y": null,
            "padding": null,
            "right": null,
            "top": null,
            "visibility": null,
            "width": null
          }
        },
        "07344bdce1e34778ab993001df16be37": {
          "model_module": "@jupyter-widgets/controls",
          "model_name": "DescriptionStyleModel",
          "model_module_version": "1.5.0",
          "state": {
            "_model_module": "@jupyter-widgets/controls",
            "_model_module_version": "1.5.0",
            "_model_name": "DescriptionStyleModel",
            "_view_count": null,
            "_view_module": "@jupyter-widgets/base",
            "_view_module_version": "1.2.0",
            "_view_name": "StyleView",
            "description_width": ""
          }
        }
      }
    }
  },
  "nbformat": 4,
  "nbformat_minor": 0
}